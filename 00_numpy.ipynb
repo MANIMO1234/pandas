{
 "cells": [
  {
   "cell_type": "code",
   "execution_count": 3,
   "id": "aee3fea3-3eb2-4fc0-94b5-a5f52ce5e0af",
   "metadata": {},
   "outputs": [],
   "source": [
    "import numpy as np\n",
    "\n",
    "my_array = np.arange(1000000)\n",
    "my_list = list(range(100000))"
   ]
  },
  {
   "cell_type": "code",
   "execution_count": null,
   "id": "f866c7c5-3429-41c8-9bea-6a5ff5b4ea1b",
   "metadata": {},
   "outputs": [],
   "source": [
    "%timeit my_list2 = [i *2 for i in my_list]\n",
    "%timeit my_array2 = my_array * 2"
   ]
  },
  {
   "cell_type": "code",
   "execution_count": 4,
   "id": "91c99b09-0ed8-4d57-a549-c1957e7bf126",
   "metadata": {},
   "outputs": [
    {
     "name": "stdout",
     "output_type": "stream",
     "text": [
      "[[   1.     1.2    3. ]\n",
      " [-123.   123.     0. ]]\n"
     ]
    }
   ],
   "source": [
    "a = [\n",
    "    [1, 1.2, 3,],\n",
    "    [-123, 123,0]\n",
    "\n",
    "    \n",
    "]\n",
    "data = np.array(a)\n",
    "print(data)\n"
   ]
  },
  {
   "cell_type": "code",
   "execution_count": 5,
   "id": "72e276ef-1e36-4b19-8571-a209e00ed8b2",
   "metadata": {},
   "outputs": [
    {
     "name": "stdout",
     "output_type": "stream",
     "text": [
      "[[   10.    12.    30.]\n",
      " [-1230.  1230.     0.]]\n"
     ]
    }
   ],
   "source": [
    "print(data * 10)  #0차원 스칼라(scala) , 1차원은 벡터(vector)  \n",
    "                # 2차원은 행렬, 메트릭스(matrix)  3차원 이상을 텐서로 (tenser)"
   ]
  },
  {
   "cell_type": "code",
   "execution_count": 6,
   "id": "8c440ade-0eeb-41d8-b201-9d637ab9ecf8",
   "metadata": {},
   "outputs": [
    {
     "name": "stdout",
     "output_type": "stream",
     "text": [
      "(2, 3)\n",
      "float64\n"
     ]
    }
   ],
   "source": [
    "print(data.shape)   # 가로 세로의 길이 (가장 큰 단위의 갯수)\n",
    "print(data.dtype)   #데이터의 세부 데이터 , 전부다 소수이기때문에 float"
   ]
  },
  {
   "cell_type": "markdown",
   "id": "0f122eb8-ebb8-40c1-a038-c3df1cf2d2f4",
   "metadata": {},
   "source": [
    "## ndarray 생성하기 "
   ]
  },
  {
   "cell_type": "code",
   "execution_count": 7,
   "id": "8fb44ea7-5131-468e-a0a0-2fb4eb15bc6b",
   "metadata": {},
   "outputs": [
    {
     "name": "stdout",
     "output_type": "stream",
     "text": [
      "[1 2 3 4 5]\n",
      "<class 'numpy.ndarray'>\n"
     ]
    }
   ],
   "source": [
    "data1 = [1, 2, 3, 4, 5]\n",
    "array1 = np.array(data1)\n",
    "print(array1)\n",
    "print(type(array1))"
   ]
  },
  {
   "cell_type": "code",
   "execution_count": 16,
   "id": "f4b56609-a1eb-47fd-869b-6ccd9c6ebc98",
   "metadata": {},
   "outputs": [
    {
     "name": "stdout",
     "output_type": "stream",
     "text": [
      "[[1.1 2.2 3.3]\n",
      " [5.5 4.4 7.7]]\n",
      "<class 'numpy.ndarray'>\n"
     ]
    }
   ],
   "source": [
    "arr2 = np.array([[1.1, 2.2, 3.3], [5.5, 4.4, 7.7]])\n",
    "print(arr2)\n",
    "print(type(arr2))"
   ]
  },
  {
   "cell_type": "code",
   "execution_count": 18,
   "id": "72cd7bce-df2a-4bf3-9cd4-19bf81d7ee0f",
   "metadata": {},
   "outputs": [
    {
     "name": "stdout",
     "output_type": "stream",
     "text": [
      "1\n",
      "2\n"
     ]
    }
   ],
   "source": [
    "print(array1.ndim)\n",
    "print(arr2.ndim)"
   ]
  },
  {
   "cell_type": "code",
   "execution_count": 22,
   "id": "0ef28bc8-d061-4fb4-9c83-311d11b1c09a",
   "metadata": {},
   "outputs": [
    {
     "name": "stdout",
     "output_type": "stream",
     "text": [
      "[0. 0. 0. 0. 0. 0. 0. 0. 0. 0.]\n",
      "[0, 0, 0, 0, 0, 0, 0, 0, 0, 0]\n",
      "[[0. 0. 0. 0. 0.]\n",
      " [0. 0. 0. 0. 0.]\n",
      " [0. 0. 0. 0. 0.]\n",
      " [0. 0. 0. 0. 0.]\n",
      " [0. 0. 0. 0. 0.]]\n",
      "[[[0. 0.]\n",
      "  [0. 0.]]\n",
      "\n",
      " [[0. 0.]\n",
      "  [0. 0.]]]\n"
     ]
    }
   ],
   "source": [
    "print(np.zeros(10))\n",
    "print([0] * 10)\n",
    "print(np.zeros((5,5)))  # 배열을 편하게 망들어\n",
    "print(np.empty((2,2,2)))  #메모리에 할당 안댕, 빈칸 넣어"
   ]
  },
  {
   "cell_type": "code",
   "execution_count": 23,
   "id": "0e1c66fc-c8d8-4fe8-a1f8-f0c364a88983",
   "metadata": {},
   "outputs": [
    {
     "name": "stdout",
     "output_type": "stream",
     "text": [
      "[0 1 2 3 4 5 6 7 8 9]\n"
     ]
    }
   ],
   "source": [
    "print(np.arange(10))"
   ]
  },
  {
   "cell_type": "markdown",
   "id": "d7dee02f-e97d-4014-9478-0a0dc65b25d9",
   "metadata": {},
   "source": [
    "## ndarray 자료형"
   ]
  },
  {
   "cell_type": "code",
   "execution_count": 27,
   "id": "079d454d-34e7-4fda-a5b7-00c3f0e10c00",
   "metadata": {},
   "outputs": [
    {
     "name": "stdout",
     "output_type": "stream",
     "text": [
      "float64\n",
      "int32\n"
     ]
    }
   ],
   "source": [
    "arr1 = np.array([1, 2, 3], dtype = np.float64)\n",
    "arr2 = np.array([1, 2, 3], dtype = np.int32)\n",
    "\n",
    "print(arr1.dtype)\n",
    "print(arr2.dtype)"
   ]
  },
  {
   "cell_type": "code",
   "execution_count": 30,
   "id": "d074185f-7bf1-4676-a99e-4858291f9ffc",
   "metadata": {},
   "outputs": [
    {
     "name": "stdout",
     "output_type": "stream",
     "text": [
      "int64\n",
      "[1. 2. 3.]\n",
      "float64\n"
     ]
    }
   ],
   "source": [
    "arr1 = np.array([1, 2, 3])\n",
    "print(arr1.dtype)\n",
    "float_arr1 = arr1.astype(np.float64)\n",
    "print(float_arr1)\n",
    "print(float_arr1.dtype)"
   ]
  },
  {
   "cell_type": "code",
   "execution_count": 31,
   "id": "d514e486-80af-4e66-886d-4f4b38d1de6d",
   "metadata": {},
   "outputs": [
    {
     "name": "stdout",
     "output_type": "stream",
     "text": [
      "[1 1 2 9]\n",
      "int64\n"
     ]
    }
   ],
   "source": [
    "arr2 = np.array([1,1,  2.2,  9.9])\n",
    "int_arr2 = arr2.astype(np.int64)\n",
    "print(int_arr2)\n",
    "print(int_arr2.dtype)"
   ]
  },
  {
   "cell_type": "markdown",
   "id": "f8f9afdd-d56b-42e6-9777-41a08f666c17",
   "metadata": {},
   "source": [
    "##  산술연산"
   ]
  },
  {
   "cell_type": "code",
   "execution_count": 37,
   "id": "53db9396-fed3-4b0e-9b19-d0007d30b4a0",
   "metadata": {},
   "outputs": [
    {
     "name": "stdout",
     "output_type": "stream",
     "text": [
      "[[1 2 3]\n",
      " [4 5 6]]\n",
      "[[ 1  4  9]\n",
      " [16 25 36]]\n",
      "[[ 2  4  6]\n",
      " [ 8 10 12]]\n",
      "[[1.         0.5        0.33333333]\n",
      " [0.25       0.2        0.16666667]]\n",
      "[[  1   8  27]\n",
      " [ 64 125 216]]\n"
     ]
    }
   ],
   "source": [
    "arr1 = np.array([[1,2,3],[4,5,6]])\n",
    "print(arr)\n",
    "print(arr * arr)\n",
    "print(arr + arr)\n",
    "print(1 / arr)\n",
    "print( arr ** 3)"
   ]
  },
  {
   "cell_type": "code",
   "execution_count": 39,
   "id": "22c87ad7-ba1b-4066-b173-deef6e854d61",
   "metadata": {},
   "outputs": [
    {
     "name": "stdout",
     "output_type": "stream",
     "text": [
      "[[1 2 3]\n",
      " [4 5 6]] [[3 2 1]\n",
      " [1 2 3]]\n",
      "[[False False  True]\n",
      " [ True  True  True]]\n",
      "[[False False  True]\n",
      " [False False False]]\n"
     ]
    }
   ],
   "source": [
    "arr2 = np.array([[3,2,1],[1,2,3]])\n",
    "print(arr1, arr2)\n",
    "print(arr1 > arr2)\n",
    "print(arr1 == 3)"
   ]
  },
  {
   "cell_type": "markdown",
   "id": "4c4aafac-b561-444e-a09e-32302e1908a2",
   "metadata": {},
   "source": [
    "## 색인과 슬라이싱"
   ]
  },
  {
   "cell_type": "code",
   "execution_count": 40,
   "id": "ce5163a6-a436-4892-af53-0867d867ef1c",
   "metadata": {},
   "outputs": [
    {
     "name": "stdout",
     "output_type": "stream",
     "text": [
      "[0 1 2 3 4 5 6 7 8 9]\n"
     ]
    }
   ],
   "source": [
    "arr = np.arange(10)\n",
    "print(arr)"
   ]
  },
  {
   "cell_type": "code",
   "execution_count": 43,
   "id": "bb94d438-5d2c-423c-8c56-c50bd335649b",
   "metadata": {},
   "outputs": [
    {
     "name": "stdout",
     "output_type": "stream",
     "text": [
      "[2 3 4]\n"
     ]
    }
   ],
   "source": [
    "arr[5]\n",
    "print(arr[2:5])"
   ]
  },
  {
   "cell_type": "code",
   "execution_count": 44,
   "id": "63dcc1d3-c547-4dd9-ba9b-dc6f08652ba5",
   "metadata": {},
   "outputs": [
    {
     "name": "stdout",
     "output_type": "stream",
     "text": [
      "[ 0  1 10 10 10  5  6  7  8  9]\n"
     ]
    }
   ],
   "source": [
    "arr[2:5] = 10   #모든 범위에 하나씩 대입 되는 , 스칼라,,,,잘라진 데이터를 바꿨는데 원본이 같이 바뀜\n",
    "print(arr)     #원본에 반영 되어,,,요,,,"
   ]
  },
  {
   "cell_type": "code",
   "execution_count": 46,
   "id": "ddc44257-6a80-4d30-b15c-ca6b22870e50",
   "metadata": {},
   "outputs": [
    {
     "name": "stdout",
     "output_type": "stream",
     "text": [
      "[1, 2, 3, 4, 5]\n"
     ]
    }
   ],
   "source": [
    "py_list = [1,2,3,4,5]\n",
    "py_list[2:3].pop()\n",
    "print(py_list)"
   ]
  },
  {
   "cell_type": "code",
   "execution_count": 47,
   "id": "07e0cb62-ef63-457f-95a1-770b373654c6",
   "metadata": {},
   "outputs": [
    {
     "name": "stdout",
     "output_type": "stream",
     "text": [
      "[[1 2 3]\n",
      " [4 5 6]]\n"
     ]
    }
   ],
   "source": [
    "# 2 차원 배열의 접금\n",
    "\n",
    "arr = np.array([[1, 2, 3],[4, 5, 6]])\n",
    "print(arr)\n"
   ]
  },
  {
   "cell_type": "code",
   "execution_count": 50,
   "id": "534e8b6d-2e97-4065-a293-da7b27337ee8",
   "metadata": {},
   "outputs": [
    {
     "name": "stdout",
     "output_type": "stream",
     "text": [
      "5\n"
     ]
    }
   ],
   "source": [
    "print(arr[1][1]\n",
    "     )"
   ]
  },
  {
   "cell_type": "code",
   "execution_count": 52,
   "id": "63d2dee7-8090-49c9-a368-91f02e7159a4",
   "metadata": {},
   "outputs": [
    {
     "name": "stdout",
     "output_type": "stream",
     "text": [
      "5\n"
     ]
    }
   ],
   "source": [
    "print(arr[1,1])"
   ]
  },
  {
   "cell_type": "code",
   "execution_count": 54,
   "id": "ef84ec6c-1be7-401b-9887-7327f59f1ea2",
   "metadata": {},
   "outputs": [],
   "source": [
    "arr3d = np.array([[[1,2,3],[4,5,6],[7,8,9]],\n",
    "          [[11,12,13],[14,15,16],[17,18,19]],\n",
    "          [[11,22,33],[44,55,66],[77,88,99]]])"
   ]
  },
  {
   "cell_type": "code",
   "execution_count": 60,
   "id": "b9c130a2-a888-4517-b318-faa1e97a4b6c",
   "metadata": {},
   "outputs": [
    {
     "name": "stdout",
     "output_type": "stream",
     "text": [
      "22\n",
      "22\n"
     ]
    }
   ],
   "source": [
    "print(arr3d[2][0][1])\n",
    "print(arr3d[2,0,1])"
   ]
  },
  {
   "cell_type": "code",
   "execution_count": 61,
   "id": "6ba6ba9d-55da-4fa4-9651-c4600a0c77f8",
   "metadata": {},
   "outputs": [],
   "source": [
    "# 슬라이싱"
   ]
  },
  {
   "cell_type": "code",
   "execution_count": 65,
   "id": "64c04e44-c915-47c6-b531-4e1d352a470a",
   "metadata": {},
   "outputs": [
    {
     "data": {
      "text/plain": [
       "array([[[6],\n",
       "        [9]]])"
      ]
     },
     "execution_count": 65,
     "metadata": {},
     "output_type": "execute_result"
    }
   ],
   "source": [
    "arr3d[:1,1:,2:] "
   ]
  },
  {
   "cell_type": "code",
   "execution_count": 66,
   "id": "4262559d-56a1-4129-8b6b-7a0bf2d2a727",
   "metadata": {},
   "outputs": [
    {
     "name": "stdout",
     "output_type": "stream",
     "text": [
      "[[[   1    2    3]\n",
      "  [   4    5 9999]\n",
      "  [   7    8 9999]]\n",
      "\n",
      " [[  11   12   13]\n",
      "  [  14   15   16]\n",
      "  [  17   18   19]]\n",
      "\n",
      " [[  11   22   33]\n",
      "  [  44   55   66]\n",
      "  [  77   88   99]]]\n"
     ]
    }
   ],
   "source": [
    "arr3d[:1,1:,2:] = 9999\n",
    "print(arr3d)      # 원본의 데이터도 수정이 된다"
   ]
  },
  {
   "cell_type": "markdown",
   "id": "c4e2f5ea-afbd-40dc-a390-80a7311cc84d",
   "metadata": {},
   "source": [
    "### 불리언 값으로 선택"
   ]
  },
  {
   "cell_type": "code",
   "execution_count": 70,
   "id": "d622c0ff-0270-415a-af7a-b5f8c3a59ad4",
   "metadata": {},
   "outputs": [],
   "source": [
    "names =np.array(['hong', 'kim', 'hong', 'kim'])\n",
    "data =np.array([['math', 60],['math',90],['english', 70],['english', 50]])\n"
   ]
  },
  {
   "cell_type": "code",
   "execution_count": 71,
   "id": "67b51746-049d-482b-90f0-8bf3a08c5447",
   "metadata": {},
   "outputs": [
    {
     "data": {
      "text/plain": [
       "array([ True, False,  True, False])"
      ]
     },
     "execution_count": 71,
     "metadata": {},
     "output_type": "execute_result"
    }
   ],
   "source": [
    "names == 'hong'"
   ]
  },
  {
   "cell_type": "code",
   "execution_count": 73,
   "id": "6b2da0a5-5554-41ff-800a-31e9a97208cf",
   "metadata": {},
   "outputs": [
    {
     "data": {
      "text/plain": [
       "array([['math', '60'],\n",
       "       ['english', '70']], dtype='<U21')"
      ]
     },
     "execution_count": 73,
     "metadata": {},
     "output_type": "execute_result"
    }
   ],
   "source": [
    "data[names == 'hong']  # 특정 조건의 데이터를 구할때\n",
    "#data[True, False, True, False]"
   ]
  },
  {
   "cell_type": "code",
   "execution_count": 76,
   "id": "7ebf2f65-936a-4de5-b007-64f7cdb12d3c",
   "metadata": {},
   "outputs": [
    {
     "name": "stdout",
     "output_type": "stream",
     "text": [
      "[['math']\n",
      " ['english']]\n",
      "['60' '70']\n"
     ]
    }
   ],
   "source": [
    "print(data[names == 'hong',:1]) # 인덱스 접근\n",
    "print(data[names == 'hong', 1])  # 슬라이싱 접근 "
   ]
  },
  {
   "cell_type": "code",
   "execution_count": 79,
   "id": "e4b54c48-7ec6-4994-8957-1d440046ce25",
   "metadata": {},
   "outputs": [
    {
     "name": "stdout",
     "output_type": "stream",
     "text": [
      "[False  True False  True]\n",
      "[False  True False  True]\n"
     ]
    }
   ],
   "source": [
    "print(names != 'hong')\n",
    "print(~(names == 'hong'))   # ~를 이용해서 보여줌 \n"
   ]
  },
  {
   "cell_type": "code",
   "execution_count": 80,
   "id": "50218b48-7794-4e78-80c8-e3d1be808d34",
   "metadata": {},
   "outputs": [
    {
     "data": {
      "text/plain": [
       "array([['math', '90'],\n",
       "       ['english', '50']], dtype='<U21')"
      ]
     },
     "execution_count": 80,
     "metadata": {},
     "output_type": "execute_result"
    }
   ],
   "source": [
    "cond = names == 'kim'\n",
    "data[cond]"
   ]
  },
  {
   "cell_type": "markdown",
   "id": "443f72b7-8c4b-4d61-99fb-a76954c76e77",
   "metadata": {},
   "source": [
    "## 팬시 색인 (fancy indexing)"
   ]
  },
  {
   "cell_type": "code",
   "execution_count": 82,
   "id": "cdff1df6-0807-4e35-954b-3a1536898395",
   "metadata": {},
   "outputs": [
    {
     "name": "stdout",
     "output_type": "stream",
     "text": [
      "[[0. 0. 0. 0.]\n",
      " [1. 1. 1. 1.]\n",
      " [2. 2. 2. 2.]\n",
      " [3. 3. 3. 3.]\n",
      " [4. 4. 4. 4.]\n",
      " [5. 5. 5. 5.]\n",
      " [6. 6. 6. 6.]\n",
      " [7. 7. 7. 7.]]\n"
     ]
    }
   ],
   "source": [
    "arr = np.zeros((8,4))\n",
    "for i in range(8):\n",
    "    arr[i]= i\n",
    "print(arr)"
   ]
  },
  {
   "cell_type": "code",
   "execution_count": 84,
   "id": "1fd30f83-17a7-4fd2-b335-2f81fc1ee391",
   "metadata": {},
   "outputs": [
    {
     "data": {
      "text/plain": [
       "array([[4., 4., 4., 4.],\n",
       "       [3., 3., 3., 3.],\n",
       "       [0., 0., 0., 0.],\n",
       "       [5., 5., 5., 5.]])"
      ]
     },
     "execution_count": 84,
     "metadata": {},
     "output_type": "execute_result"
    }
   ],
   "source": [
    "arr[[4, 3, 0, 5]]"
   ]
  },
  {
   "cell_type": "code",
   "execution_count": 85,
   "id": "44be2602-9376-4cfa-b1a5-f104a8c73f1e",
   "metadata": {},
   "outputs": [
    {
     "data": {
      "text/plain": [
       "array([[5., 5., 5., 5.],\n",
       "       [3., 3., 3., 3.],\n",
       "       [7., 7., 7., 7.]])"
      ]
     },
     "execution_count": 85,
     "metadata": {},
     "output_type": "execute_result"
    }
   ],
   "source": [
    "arr[[-3,-5,-1]]"
   ]
  },
  {
   "cell_type": "code",
   "execution_count": 87,
   "id": "4633a878-fcaf-4804-89cf-fa575050ac84",
   "metadata": {},
   "outputs": [
    {
     "name": "stdout",
     "output_type": "stream",
     "text": [
      "[[ 0  1  2  3]\n",
      " [ 4  5  6  7]\n",
      " [ 8  9 10 11]\n",
      " [12 13 14 15]\n",
      " [16 17 18 19]\n",
      " [20 21 22 23]\n",
      " [24 25 26 27]\n",
      " [28 29 30 31]]\n"
     ]
    }
   ],
   "source": [
    "arr = np.arange(32).reshape(8, 4)\n",
    "print(arr)"
   ]
  },
  {
   "cell_type": "code",
   "execution_count": 88,
   "id": "4456af71-b77c-43fd-95f0-b99fadd9a198",
   "metadata": {},
   "outputs": [
    {
     "data": {
      "text/plain": [
       "array([ 6, 23])"
      ]
     },
     "execution_count": 88,
     "metadata": {},
     "output_type": "execute_result"
    }
   ],
   "source": [
    "arr[[1, 5], [2, 3]]    # 첫번째 다섯번째 줄에서 2번 3번 것의 값"
   ]
  },
  {
   "cell_type": "code",
   "execution_count": 90,
   "id": "cb9a3b3c-d918-443c-a6d8-da6936919c00",
   "metadata": {},
   "outputs": [
    {
     "data": {
      "text/plain": [
       "array([[ 6,  7],\n",
       "       [22, 23]])"
      ]
     },
     "execution_count": 90,
     "metadata": {},
     "output_type": "execute_result"
    }
   ],
   "source": [
    "arr[[1, 5]][:,[2, 3]]   # 같은 것 "
   ]
  },
  {
   "cell_type": "markdown",
   "id": "67e6f6b4-851a-4d10-8315-9bb9f584f506",
   "metadata": {},
   "source": [
    "##  배열전치"
   ]
  },
  {
   "cell_type": "code",
   "execution_count": 91,
   "id": "e927dc86-7862-401c-9d82-4c29d3c83162",
   "metadata": {},
   "outputs": [
    {
     "name": "stdout",
     "output_type": "stream",
     "text": [
      "[[ 0  1  2  3  4]\n",
      " [ 5  6  7  8  9]\n",
      " [10 11 12 13 14]]\n"
     ]
    }
   ],
   "source": [
    "arr = np.arange(15).reshape(3,5)\n",
    "print(arr)"
   ]
  },
  {
   "cell_type": "code",
   "execution_count": 92,
   "id": "b9fb29dd-9795-4470-97f5-2cb193d95d70",
   "metadata": {},
   "outputs": [
    {
     "name": "stdout",
     "output_type": "stream",
     "text": [
      "[[ 0  5 10]\n",
      " [ 1  6 11]\n",
      " [ 2  7 12]\n",
      " [ 3  8 13]\n",
      " [ 4  9 14]]\n"
     ]
    }
   ],
   "source": [
    "print(arr.T)   # 행렬에서의 전치 , 사선으로 나눠서 축을 바꿀 때"
   ]
  },
  {
   "cell_type": "code",
   "execution_count": 94,
   "id": "2ef6232d-c3ae-4fbc-bc60-65d199b1c314",
   "metadata": {},
   "outputs": [
    {
     "name": "stdout",
     "output_type": "stream",
     "text": [
      "[[ 30  80 130]\n",
      " [ 80 255 430]\n",
      " [130 430 730]]\n",
      "[[ 30  80 130]\n",
      " [ 80 255 430]\n",
      " [130 430 730]]\n"
     ]
    }
   ],
   "source": [
    "print(arr @ arr.T )  #  행렬의 곱 연산 , 행렬의 내적, 곱\n",
    "print(np.dot(arr, arr.T))"
   ]
  },
  {
   "cell_type": "markdown",
   "id": "b7e5fc45-a16d-4524-887b-a64c3f102f3a",
   "metadata": {},
   "source": [
    "## numpy 함수"
   ]
  },
  {
   "cell_type": "code",
   "execution_count": 97,
   "id": "511362e0-7ad6-4767-8d06-a73f3f31e96f",
   "metadata": {},
   "outputs": [
    {
     "name": "stdout",
     "output_type": "stream",
     "text": [
      "[[-0.77926417  1.40208922 -0.41061785]\n",
      " [ 1.25954978 -1.59110698 -1.04011837]\n",
      " [-1.15977271  0.90951664 -1.10191944]]\n"
     ]
    }
   ],
   "source": [
    "samples = np.random.standard_normal(size =(3,3))\n",
    "print(samples)"
   ]
  },
  {
   "cell_type": "code",
   "execution_count": 100,
   "id": "6cbf9811-fecf-4fd4-ae48-a6ee14987736",
   "metadata": {},
   "outputs": [
    {
     "name": "stdout",
     "output_type": "stream",
     "text": [
      "[[       nan 1.18409848        nan]\n",
      " [1.12229665        nan        nan]\n",
      " [       nan 0.95368582        nan]]\n"
     ]
    },
    {
     "name": "stderr",
     "output_type": "stream",
     "text": [
      "/var/folders/cw/vfz1c_rj2vg143pfdts65w400000gn/T/ipykernel_39232/949972240.py:1: RuntimeWarning: invalid value encountered in sqrt\n",
      "  arr1 = np.sqrt(samples)   # 루트로 만들어 주는 것 nan = 숫자가 아닙니다!\n"
     ]
    }
   ],
   "source": [
    "arr1 = np.sqrt(samples)   # 루트로 만들어 주는 것 nan = 숫자가 아닙니다!\n",
    "print(arr1)"
   ]
  },
  {
   "cell_type": "code",
   "execution_count": 101,
   "id": "d50b8007-27e1-4c7f-a9f4-a35c60e0f500",
   "metadata": {},
   "outputs": [
    {
     "name": "stdout",
     "output_type": "stream",
     "text": [
      "[[0.77926417 1.40208922 0.41061785]\n",
      " [1.25954978 1.59110698 1.04011837]\n",
      " [1.15977271 0.90951664 1.10191944]]\n"
     ]
    }
   ],
   "source": [
    "arr2 = np.abs(samples)     # 절댓값으로 바꿔 주는 함수라고 할 수 이쯤\n",
    "print(arr2)     "
   ]
  },
  {
   "cell_type": "code",
   "execution_count": 102,
   "id": "980b3f5c-ebe7-4433-b7ab-06d99f27838e",
   "metadata": {},
   "outputs": [
    {
     "data": {
      "text/plain": [
       "array([[ True, False,  True],\n",
       "       [False,  True,  True],\n",
       "       [ True, False,  True]])"
      ]
     },
     "execution_count": 102,
     "metadata": {},
     "output_type": "execute_result"
    }
   ],
   "source": [
    "np.isnan(arr1)"
   ]
  },
  {
   "cell_type": "code",
   "execution_count": null,
   "id": "75cd142a-4b1b-433c-9bce-18d5b9632e45",
   "metadata": {},
   "outputs": [],
   "source": []
  }
 ],
 "metadata": {
  "kernelspec": {
   "display_name": "Python 3 (ipykernel)",
   "language": "python",
   "name": "python3"
  },
  "language_info": {
   "codemirror_mode": {
    "name": "ipython",
    "version": 3
   },
   "file_extension": ".py",
   "mimetype": "text/x-python",
   "name": "python",
   "nbconvert_exporter": "python",
   "pygments_lexer": "ipython3",
   "version": "3.13.2"
  }
 },
 "nbformat": 4,
 "nbformat_minor": 5
}
