{
 "cells": [
  {
   "cell_type": "markdown",
   "id": "69e72fb2-96bc-485b-9d80-b66cd306df45",
   "metadata": {},
   "source": [
    "# numpy & pandas"
   ]
  },
  {
   "cell_type": "markdown",
   "id": "65f2efea-97a8-41c5-841d-f4bfd7172c25",
   "metadata": {},
   "source": [
    "## 01 numpy\n",
    " "
   ]
  },
  {
   "cell_type": "code",
   "execution_count": null,
   "id": "5375a8aa-7232-4509-9c93-38daaeae62e8",
   "metadata": {},
   "outputs": [],
   "source": [
    "`import numpy as np`\n",
    "\n",
    "- numpy를 np로 줄여서 부르겠다는 말\n",
    "- 사용하는 이유는 : 실행 속도와 , 다차원의 구조를 \n",
    "  쉽게 처리 하기 위해서 이다 \n",
    "- 차원에 따라 부르는 이름이 다르다.\n",
    "  0차원 스칼라 : scala\n",
    "  1차원 벡터 : vector \n",
    "  2차원 행렬 : matrix\n",
    "  3차원 이상 : tenser"
   ]
  },
  {
   "cell_type": "markdown",
   "id": "d233e107-e3d4-41a5-93d4-7dbb51905718",
   "metadata": {},
   "source": [
    "`print(data.dtype)`을 하게 될 경우 , 세부 데이터가 가진 타입을 전부다 보여준다\n",
    "`print(data.shape)`의 경우 행렬의 세로와 가로를 보여줌 ..?"
   ]
  },
  {
   "cell_type": "markdown",
   "id": "0f122eb8-ebb8-40c1-a038-c3df1cf2d2f4",
   "metadata": {},
   "source": [
    "## ndarray 생성하기 "
   ]
  },
  {
   "cell_type": "markdown",
   "id": "2a31b7ab-e139-48b9-b9a7-0a50bb0838f0",
   "metadata": {},
   "source": [
    "- ndarry는 N차원 배열 객체이다\n",
    "- 하나의 데이터 타입만 넣을 수 있다\n"
   ]
  },
  {
   "cell_type": "code",
   "execution_count": 2,
   "id": "1b83a106-d96b-4830-8604-8dc29538a06e",
   "metadata": {},
   "outputs": [],
   "source": [
    "import numpy as np"
   ]
  },
  {
   "cell_type": "code",
   "execution_count": 3,
   "id": "c1f05f0a-ee6a-4dc2-b36d-26899fdf52fd",
   "metadata": {},
   "outputs": [
    {
     "name": "stdout",
     "output_type": "stream",
     "text": [
      "[1 2 3 4 5]\n",
      "<class 'numpy.ndarray'>\n"
     ]
    }
   ],
   "source": [
    "data1 = [1, 2, 3, 4, 5]\n",
    "array1 = np.array(data1)\n",
    "print(array1)\n",
    "print(type(array1))"
   ]
  },
  {
   "cell_type": "code",
   "execution_count": 4,
   "id": "c1589245-c4a5-4094-a5c9-1574c92d3dc3",
   "metadata": {},
   "outputs": [
    {
     "name": "stdout",
     "output_type": "stream",
     "text": [
      "[[1.1 2.2 3.3]\n",
      " [5.5 4.4 7.7]]\n",
      "<class 'numpy.ndarray'>\n"
     ]
    }
   ],
   "source": [
    "arr2 = np.array([[1.1, 2.2, 3.3], [5.5, 4.4, 7.7]])\n",
    "print(arr2)\n",
    "print(type(arr2))"
   ]
  },
  {
   "cell_type": "code",
   "execution_count": 5,
   "id": "b88893a0-ed9f-472c-b27e-978f52789df6",
   "metadata": {},
   "outputs": [
    {
     "name": "stdout",
     "output_type": "stream",
     "text": [
      "1\n",
      "2\n"
     ]
    }
   ],
   "source": [
    "print(array1.ndim)\n",
    "print(arr2.ndim)"
   ]
  },
  {
   "cell_type": "markdown",
   "id": "9635589b-b513-44c7-b99d-93363dd6a10c",
   "metadata": {},
   "source": [
    "- ndim의 경우 array의 차원을 알려줌\n",
    "  "
   ]
  },
  {
   "cell_type": "markdown",
   "id": "484b0e2d-464b-4d52-8127-5d5938a0079d",
   "metadata": {},
   "source": [
    "#### 편하게 배열을 만드는 방법"
   ]
  },
  {
   "cell_type": "code",
   "execution_count": 7,
   "id": "b185e14d-c4b4-4631-bb6c-621f4959a5f8",
   "metadata": {},
   "outputs": [
    {
     "name": "stdout",
     "output_type": "stream",
     "text": [
      "[0. 0. 0. 0. 0. 0. 0. 0. 0. 0.]\n",
      "[0, 0, 0, 0, 0, 0, 0, 0, 0, 0]\n",
      "[[0. 0. 0. 0. 0.]\n",
      " [0. 0. 0. 0. 0.]\n",
      " [0. 0. 0. 0. 0.]\n",
      " [0. 0. 0. 0. 0.]\n",
      " [0. 0. 0. 0. 0.]]\n",
      "[[[0. 0.]\n",
      "  [0. 0.]]\n",
      "\n",
      " [[0. 0.]\n",
      "  [0. 0.]]]\n"
     ]
    }
   ],
   "source": [
    "print(np.zeros(10))\n",
    "print([0] * 10)\n",
    "print(np.zeros((5,5)))  #5*5로 마들어 \n",
    "print(np.empty((2,2,2)))  # 2개씩 2들 있는 걸\n",
    "                            # 두개 만들어"
   ]
  },
  {
   "cell_type": "code",
   "execution_count": 12,
   "id": "c3aa0b8d-9fa0-482a-99ef-8703b76e9c30",
   "metadata": {},
   "outputs": [
    {
     "name": "stdout",
     "output_type": "stream",
     "text": [
      "[[[0. 0.]\n",
      "  [0. 0.]]\n",
      "\n",
      " [[0. 0.]\n",
      "  [0. 0.]]]\n"
     ]
    }
   ],
   "source": [
    "print(np.empty((2,2,2)))"
   ]
  },
  {
   "cell_type": "markdown",
   "id": "d7dee02f-e97d-4014-9478-0a0dc65b25d9",
   "metadata": {},
   "source": [
    "## ndarray 자료형"
   ]
  },
  {
   "cell_type": "code",
   "execution_count": 13,
   "id": "04c0ef9e-06ff-4f91-ba99-ffe4b6129a4b",
   "metadata": {},
   "outputs": [],
   "source": [
    "arr1 = np.array([1, 2, 3], dtype = np.float64)\n",
    "arr2 = np.array([1, 2, 3], dtype = np.int32)\n"
   ]
  },
  {
   "cell_type": "code",
   "execution_count": 14,
   "id": "53f8f807-6c23-4bf7-821c-9f56fb8f1bed",
   "metadata": {},
   "outputs": [
    {
     "name": "stdout",
     "output_type": "stream",
     "text": [
      "float64\n",
      "int32\n"
     ]
    }
   ],
   "source": [
    "\n",
    "print(arr1.dtype)\n",
    "print(arr2.dtype)"
   ]
  },
  {
   "cell_type": "markdown",
   "id": "443df061-47eb-4bd1-9031-a864d6069c82",
   "metadata": {},
   "source": [
    "- 각각의 타입을 float으로 /int로 자신이 원하는 방식으로 만들 수 있다."
   ]
  },
  {
   "cell_type": "code",
   "execution_count": 15,
   "id": "ebde8dfc-415d-448b-ae0c-0ef5f5f9b3ce",
   "metadata": {},
   "outputs": [
    {
     "name": "stdout",
     "output_type": "stream",
     "text": [
      "int64\n",
      "[1. 2. 3.]\n",
      "float64\n"
     ]
    }
   ],
   "source": [
    "arr1 = np.array([1, 2, 3])\n",
    "print(arr1.dtype)\n",
    "float_arr1 = arr1.astype(np.float64)\n",
    "print(float_arr1)\n",
    "print(float_arr1.dtype)"
   ]
  },
  {
   "cell_type": "markdown",
   "id": "154ed0cb-cc2d-4a83-99bb-535bb271e9a5",
   "metadata": {},
   "source": [
    "- astype 또한 형변환을 도와줌"
   ]
  },
  {
   "cell_type": "markdown",
   "id": "f8f9afdd-d56b-42e6-9777-41a08f666c17",
   "metadata": {},
   "source": [
    "##  산술연산\n",
    "- 파이썬 기본 규칙과 마찬가지로 산술연산이 가능 하다"
   ]
  },
  {
   "cell_type": "code",
   "execution_count": 18,
   "id": "7236e1cf-20d9-4a8c-aec9-62fb30567473",
   "metadata": {},
   "outputs": [
    {
     "name": "stdout",
     "output_type": "stream",
     "text": [
      "[[1 2 3]\n",
      " [4 5 6]]\n",
      "[[ 2  4  6]\n",
      " [ 8 10 12]]\n",
      "[[1.         0.5        0.33333333]\n",
      " [0.25       0.2        0.16666667]]\n",
      "[[  1   8  27]\n",
      " [ 64 125 216]]\n"
     ]
    }
   ],
   "source": [
    "arr = np.array([[1,2,3],[4,5,6]])\n",
    "print(arr)\n",
    "print(arr + arr)\n",
    "print(1 / arr)\n",
    "print( arr ** 3)"
   ]
  },
  {
   "cell_type": "code",
   "execution_count": 19,
   "id": "cf926f99-24a5-4cf0-8a15-2fc6d1e8fe77",
   "metadata": {},
   "outputs": [
    {
     "name": "stdout",
     "output_type": "stream",
     "text": [
      "[[ 1  4  9]\n",
      " [16 25 36]]\n"
     ]
    }
   ],
   "source": [
    "print(arr * arr)"
   ]
  },
  {
   "cell_type": "markdown",
   "id": "f8fcda80-3230-453c-bf1e-17b36fdf9866",
   "metadata": {},
   "source": [
    "- 곱하기의 걍우 각 행의 자리에 맞게 곱한다고 생각 하면 된다!\n",
    "- 1*1, 4*4 그래서 제곱수의 값이 결과로 나타난 것이라고 생각 하는 것이 쉽다"
   ]
  },
  {
   "cell_type": "code",
   "execution_count": 20,
   "id": "ba417f12-0e49-4b85-b8a6-4fdc4ab08c03",
   "metadata": {},
   "outputs": [
    {
     "name": "stdout",
     "output_type": "stream",
     "text": [
      "[[1 2 3]\n",
      " [4 5 6]] [[3 2 1]\n",
      " [1 2 3]]\n",
      "[[False False  True]\n",
      " [ True  True  True]]\n",
      "[[False False  True]\n",
      " [False False False]]\n"
     ]
    }
   ],
   "source": [
    "arr2 = np.array([[3,2,1],[1,2,3]])\n",
    "print(arr1, arr2)\n",
    "print(arr1 > arr2)\n",
    "print(arr1 == 3)"
   ]
  },
  {
   "cell_type": "markdown",
   "id": "4c4aafac-b561-444e-a09e-32302e1908a2",
   "metadata": {},
   "source": [
    "## 색인과 슬라이싱"
   ]
  },
  {
   "cell_type": "code",
   "execution_count": 21,
   "id": "40365195-b182-4c1b-bd0b-eaf11ba972d8",
   "metadata": {},
   "outputs": [
    {
     "name": "stdout",
     "output_type": "stream",
     "text": [
      "[0 1 2 3 4 5 6 7 8 9]\n"
     ]
    }
   ],
   "source": [
    "arr = np.arange(10)\n",
    "print(arr)"
   ]
  },
  {
   "cell_type": "markdown",
   "id": "2270303a-2a91-4540-a2c8-7a1f27b6ca6b",
   "metadata": {},
   "source": [
    "- 기존의 사칙연산과 동일한 방법으로 색인과 슬라이싱을 할 수 있다"
   ]
  },
  {
   "cell_type": "code",
   "execution_count": 23,
   "id": "4d7e22c8-59ce-4ff3-8e61-66914177b262",
   "metadata": {},
   "outputs": [
    {
     "name": "stdout",
     "output_type": "stream",
     "text": [
      "5\n",
      "[2 3 4]\n"
     ]
    }
   ],
   "source": [
    "print(arr[5]) #5번째 자리\n",
    "print(arr[2:5]) #2자리에서 5번째 전까지"
   ]
  },
  {
   "cell_type": "code",
   "execution_count": 24,
   "id": "cd413b74-246b-4858-afd7-a4292617aeb0",
   "metadata": {},
   "outputs": [
    {
     "name": "stdout",
     "output_type": "stream",
     "text": [
      "[ 0  1 10 10 10  5  6  7  8  9]\n"
     ]
    }
   ],
   "source": [
    "arr[2:5] = 10   \n",
    "print(arr) "
   ]
  },
  {
   "cell_type": "markdown",
   "id": "31e7e9ad-2094-4e64-84ab-9db50235d93c",
   "metadata": {},
   "source": [
    "- 설정한 모든 범위의 데이터가 변화 된다"
   ]
  },
  {
   "cell_type": "markdown",
   "id": "19c087ac-eb91-4b37-938f-26ad9e26f182",
   "metadata": {},
   "source": [
    "### 2차원 배열의 접근"
   ]
  },
  {
   "cell_type": "code",
   "execution_count": 25,
   "id": "a73e2dfa-9123-4882-bde7-4ad9f87eb74b",
   "metadata": {},
   "outputs": [
    {
     "name": "stdout",
     "output_type": "stream",
     "text": [
      "[[1 2 3]\n",
      " [4 5 6]]\n"
     ]
    }
   ],
   "source": [
    "arr = np.array([[1, 2, 3],[4, 5, 6]])\n",
    "print(arr)"
   ]
  },
  {
   "cell_type": "code",
   "execution_count": 26,
   "id": "5568d92e-5399-4c14-a125-6500ca33f1f0",
   "metadata": {},
   "outputs": [
    {
     "name": "stdout",
     "output_type": "stream",
     "text": [
      "5\n"
     ]
    }
   ],
   "source": [
    "print(arr[1][1])\n",
    "# = print(arr[1,1]) -> 조금 더 직관적"
   ]
  },
  {
   "cell_type": "markdown",
   "id": "b7dc5452-0a3a-471f-be99-cbca709c727b",
   "metadata": {},
   "source": [
    "- 에레이의 첫번째 [1]에 [1]번의 값에 접근해줘\n",
    "- "
   ]
  },
  {
   "cell_type": "markdown",
   "id": "4e4ea136-467a-4d69-89de-c9723df4f993",
   "metadata": {},
   "source": [
    "### 3차원의 접근\n",
    "- 동일 하다, 하나씩 찾아 들어 가는 방시으로 접근 하면 된다링"
   ]
  },
  {
   "cell_type": "code",
   "execution_count": 27,
   "id": "22278bf3-de40-46b8-8b3e-ff174a34cb41",
   "metadata": {},
   "outputs": [],
   "source": [
    "arr3d = np.array([[[1,2,3],[4,5,6],[7,8,9]],\n",
    "          [[11,12,13],[14,15,16],[17,18,19]],\n",
    "          [[11,22,33],[44,55,66],[77,88,99]]])"
   ]
  },
  {
   "cell_type": "code",
   "execution_count": 28,
   "id": "3176d2f5-c73b-4d84-a084-d429ae516e23",
   "metadata": {},
   "outputs": [
    {
     "name": "stdout",
     "output_type": "stream",
     "text": [
      "22\n",
      "22\n"
     ]
    }
   ],
   "source": [
    "print(arr3d[2][0][1])\n",
    "print(arr3d[2,0,1])"
   ]
  },
  {
   "cell_type": "markdown",
   "id": "68986d3a-b4cf-4faf-8aec-dde68c550d55",
   "metadata": {},
   "source": [
    "## 슬라이싱"
   ]
  },
  {
   "cell_type": "code",
   "execution_count": 29,
   "id": "fb101707-dc13-422d-a91c-2a2d7dfc240a",
   "metadata": {},
   "outputs": [
    {
     "data": {
      "text/plain": [
       "array([[[6],\n",
       "        [9]]])"
      ]
     },
     "execution_count": 29,
     "metadata": {},
     "output_type": "execute_result"
    }
   ],
   "source": [
    "arr3d[:1,1:,2:] "
   ]
  },
  {
   "cell_type": "markdown",
   "id": "82bfde75-e2a1-49de-bd8a-b0f912b39c34",
   "metadata": {},
   "source": [
    "- 첫번째 줄 까지 중에서, 1번 부터 시작"
   ]
  },
  {
   "cell_type": "code",
   "execution_count": 30,
   "id": "1fb949b5-d624-4113-a348-01f845835f62",
   "metadata": {},
   "outputs": [
    {
     "data": {
      "text/plain": [
       "array([[[1, 2, 3],\n",
       "        [4, 5, 6],\n",
       "        [7, 8, 9]]])"
      ]
     },
     "execution_count": 30,
     "metadata": {},
     "output_type": "execute_result"
    }
   ],
   "source": [
    "arr3d[:1] "
   ]
  },
  {
   "cell_type": "code",
   "execution_count": 31,
   "id": "8f25f4e6-600b-4e28-af3e-25c35983f2b5",
   "metadata": {},
   "outputs": [
    {
     "data": {
      "text/plain": [
       "array([[[4, 5, 6],\n",
       "        [7, 8, 9]]])"
      ]
     },
     "execution_count": 31,
     "metadata": {},
     "output_type": "execute_result"
    }
   ],
   "source": [
    "arr3d[:1,1:] \n"
   ]
  },
  {
   "cell_type": "code",
   "execution_count": 32,
   "id": "19de9af9-2a8c-41a3-b82e-dac16aab6a75",
   "metadata": {},
   "outputs": [
    {
     "data": {
      "text/plain": [
       "array([[[6],\n",
       "        [9]]])"
      ]
     },
     "execution_count": 32,
     "metadata": {},
     "output_type": "execute_result"
    }
   ],
   "source": [
    "arr3d[:1,1:,2:] "
   ]
  },
  {
   "cell_type": "code",
   "execution_count": 33,
   "id": "65dd8f91-5ec1-4283-9cb0-42c33b32ff4e",
   "metadata": {},
   "outputs": [
    {
     "name": "stdout",
     "output_type": "stream",
     "text": [
      "[[[   1    2    3]\n",
      "  [   4    5 9999]\n",
      "  [   7    8 9999]]\n",
      "\n",
      " [[  11   12   13]\n",
      "  [  14   15   16]\n",
      "  [  17   18   19]]\n",
      "\n",
      " [[  11   22   33]\n",
      "  [  44   55   66]\n",
      "  [  77   88   99]]]\n"
     ]
    }
   ],
   "source": [
    "arr3d[:1,1:,2:] = 9999\n",
    "print(arr3d) "
   ]
  },
  {
   "cell_type": "markdown",
   "id": "212ade24-9c0e-4c93-831c-438df43027cd",
   "metadata": {},
   "source": [
    "## 불리언 값으로 선택"
   ]
  },
  {
   "cell_type": "code",
   "execution_count": 35,
   "id": "1bbc5856-43e8-4264-9fad-ad607c71679d",
   "metadata": {},
   "outputs": [],
   "source": [
    "names =np.array(['hong', 'kim', 'hong', 'kim'])\n",
    "data =np.array([['math', 60],['math',90],['english', 70],['english', 50]])\n"
   ]
  },
  {
   "cell_type": "code",
   "execution_count": 36,
   "id": "d09b9d2f-7aad-42d7-be5f-2dac8f6d8885",
   "metadata": {},
   "outputs": [
    {
     "data": {
      "text/plain": [
       "array([ True, False,  True, False])"
      ]
     },
     "execution_count": 36,
     "metadata": {},
     "output_type": "execute_result"
    }
   ],
   "source": [
    "names == 'hong'"
   ]
  },
  {
   "cell_type": "code",
   "execution_count": 37,
   "id": "982cfb30-d528-4671-8015-02fca8b2d843",
   "metadata": {},
   "outputs": [
    {
     "data": {
      "text/plain": [
       "array([['math', '60'],\n",
       "       ['english', '70']], dtype='<U21')"
      ]
     },
     "execution_count": 37,
     "metadata": {},
     "output_type": "execute_result"
    }
   ],
   "source": [
    "data[names == 'hong'] "
   ]
  },
  {
   "cell_type": "code",
   "execution_count": 38,
   "id": "de26a7af-8f48-4709-a613-2b0447a2814d",
   "metadata": {},
   "outputs": [
    {
     "name": "stdout",
     "output_type": "stream",
     "text": [
      "[False  True False  True]\n",
      "[False  True False  True]\n"
     ]
    }
   ],
   "source": [
    "print(names != 'hong')\n",
    "print(~(names == 'hong'))   # ~를 이용해서  반대의 경우를보여줌 \n"
   ]
  },
  {
   "cell_type": "markdown",
   "id": "fd296984-9875-4f9f-8e0f-185f365d0bcf",
   "metadata": {},
   "source": [
    "## 팬시 색인 (fancy indexing)¶"
   ]
  },
  {
   "cell_type": "code",
   "execution_count": 40,
   "id": "e22e9dde-6610-483e-aabb-b31846a4078f",
   "metadata": {},
   "outputs": [
    {
     "name": "stdout",
     "output_type": "stream",
     "text": [
      "[[0. 0. 0. 0.]\n",
      " [1. 1. 1. 1.]\n",
      " [2. 2. 2. 2.]\n",
      " [3. 3. 3. 3.]\n",
      " [4. 4. 4. 4.]\n",
      " [5. 5. 5. 5.]\n",
      " [6. 6. 6. 6.]\n",
      " [7. 7. 7. 7.]]\n",
      "[[4. 4. 4. 4.]\n",
      " [3. 3. 3. 3.]\n",
      " [0. 0. 0. 0.]\n",
      " [5. 5. 5. 5.]]\n",
      "[[5. 5. 5. 5.]\n",
      " [3. 3. 3. 3.]\n",
      " [7. 7. 7. 7.]]\n"
     ]
    }
   ],
   "source": [
    "arr = np.zeros((8,4))\n",
    "for i in range(8):\n",
    "    arr[i]= i\n",
    "print(arr)\n",
    "print(arr[[4, 3, 0, 5]])\n",
    "print(arr[[-3,-5,-1]])  # 음수 인덱싱 가능"
   ]
  },
  {
   "cell_type": "code",
   "execution_count": 41,
   "id": "fd0ea000-8ded-4e9d-b541-ce5edd3cad63",
   "metadata": {},
   "outputs": [
    {
     "name": "stdout",
     "output_type": "stream",
     "text": [
      "[[ 0  1  2  3]\n",
      " [ 4  5  6  7]\n",
      " [ 8  9 10 11]\n",
      " [12 13 14 15]\n",
      " [16 17 18 19]\n",
      " [20 21 22 23]\n",
      " [24 25 26 27]\n",
      " [28 29 30 31]]\n"
     ]
    }
   ],
   "source": [
    "arr = np.arange(32).reshape(8, 4)\n",
    "print(arr)"
   ]
  },
  {
   "cell_type": "markdown",
   "id": "1faf37af-0d83-4fdf-8f56-c0b0219f2d00",
   "metadata": {},
   "source": [
    "-32개를 만드는뎅 8열 4행으로 만들어줘"
   ]
  },
  {
   "cell_type": "code",
   "execution_count": 42,
   "id": "9ed708ba-657a-4b66-8a01-5280670cfb18",
   "metadata": {},
   "outputs": [
    {
     "name": "stdout",
     "output_type": "stream",
     "text": [
      "[[ 0  4  8 12 16 20 24 28]\n",
      " [ 1  5  9 13 17 21 25 29]\n",
      " [ 2  6 10 14 18 22 26 30]\n",
      " [ 3  7 11 15 19 23 27 31]]\n"
     ]
    }
   ],
   "source": [
    "print(arr.T)  \n",
    "# 행렬에서의 전치 , 사선으로 나눠서 축을 바꿀 때"
   ]
  },
  {
   "cell_type": "markdown",
   "id": "539d880b-b56c-4925-8ddf-3abe18fc8c19",
   "metadata": {},
   "source": [
    "# pandas _series\n",
    "- 판다스에서 사용하는 일차원의 배열\n",
    "- index를 사용할 수 있음"
   ]
  },
  {
   "cell_type": "code",
   "execution_count": 43,
   "id": "129848dc-5b32-4d02-b70b-6f7db0348f9e",
   "metadata": {},
   "outputs": [],
   "source": [
    "import pandas as pd\n",
    "import numpy as np"
   ]
  },
  {
   "cell_type": "markdown",
   "id": "22d4b48a-fa20-40fe-aec9-fff2423f1c3d",
   "metadata": {},
   "source": [
    "- 항상 함수를 불러 온 다음에 실행"
   ]
  },
  {
   "cell_type": "code",
   "execution_count": 44,
   "id": "8a82d3b6-5bf9-4ed8-a871-5c9d78eff3ef",
   "metadata": {},
   "outputs": [
    {
     "name": "stdout",
     "output_type": "stream",
     "text": [
      "[100 101 102 103 104 105 106 107 108 109]\n"
     ]
    }
   ],
   "source": [
    "arr = np.arange(100,110)\n",
    "print(arr)"
   ]
  },
  {
   "cell_type": "code",
   "execution_count": 45,
   "id": "282e0c4e-c98a-42a0-8fd3-8b6ec4245f4c",
   "metadata": {},
   "outputs": [
    {
     "name": "stdout",
     "output_type": "stream",
     "text": [
      "0    100\n",
      "1    101\n",
      "2    102\n",
      "3    103\n",
      "4    104\n",
      "5    105\n",
      "6    106\n",
      "7    107\n",
      "8    108\n",
      "9    109\n",
      "dtype: int64\n"
     ]
    }
   ],
   "source": [
    "s = pd.Series(arr)  #class 이다요\n",
    "print(s)"
   ]
  },
  {
   "cell_type": "markdown",
   "id": "3e75c1d7-e5c7-4e94-b022-43032036ce45",
   "metadata": {},
   "source": [
    "- 시리즈는 항상 대문자 S를 사용,class의 개념과 비슷 함\n",
    "- 엑셀과 마찬가지로 카테고리를 정하는 것임"
   ]
  },
  {
   "cell_type": "code",
   "execution_count": 46,
   "id": "6a23bafd-c5b0-4b05-a871-99a2a687cbd2",
   "metadata": {},
   "outputs": [
    {
     "name": "stdout",
     "output_type": "stream",
     "text": [
      "0     kim\n",
      "1     lee\n",
      "2    park\n",
      "dtype: object\n"
     ]
    },
    {
     "data": {
      "text/plain": [
       "'park'"
      ]
     },
     "execution_count": 46,
     "metadata": {},
     "output_type": "execute_result"
    }
   ],
   "source": [
    "s= pd.Series(['kim', 'lee' , 'park'])\n",
    "print(s) \n",
    "s[2]"
   ]
  },
  {
   "cell_type": "markdown",
   "id": "94e7efa5-ba29-4ae3-bcae-66ca1b423831",
   "metadata": {},
   "source": [
    "- 양수의 인덱싱만 적용 가능 하다"
   ]
  },
  {
   "cell_type": "code",
   "execution_count": 47,
   "id": "71968d96-2b6f-422b-b415-22cc18f6a1e3",
   "metadata": {},
   "outputs": [],
   "source": [
    "names = pd.Series(['kim','lee','park'], index = ['a','b','c'])"
   ]
  },
  {
   "cell_type": "code",
   "execution_count": 49,
   "id": "e729e66c-098b-4227-902f-ab5742616ec3",
   "metadata": {},
   "outputs": [
    {
     "data": {
      "text/plain": [
       "'kim'"
      ]
     },
     "execution_count": 49,
     "metadata": {},
     "output_type": "execute_result"
    }
   ],
   "source": [
    "names['a']"
   ]
  },
  {
   "cell_type": "markdown",
   "id": "178021e2-b5fc-44c3-906a-0e0001b8dbeb",
   "metadata": {},
   "source": [
    "- 직접적으로 인덱싱을 부여 할 수 있음"
   ]
  },
  {
   "cell_type": "markdown",
   "id": "853fee86-9111-4142-bd72-69b93b39bd02",
   "metadata": {},
   "source": [
    "## NaN(not a number)"
   ]
  },
  {
   "cell_type": "code",
   "execution_count": 50,
   "id": "e09212de-edde-4594-9185-4f7816289c0e",
   "metadata": {},
   "outputs": [
    {
     "name": "stdout",
     "output_type": "stream",
     "text": [
      "0    1.0\n",
      "1    2.0\n",
      "2    3.0\n",
      "3    NaN\n",
      "dtype: float64\n"
     ]
    }
   ],
   "source": [
    "s = pd.Series([1,2,3 ,np.nan])\n",
    "print(s)"
   ]
  },
  {
   "cell_type": "markdown",
   "id": "9b6ad3de-ccc0-405c-a5cb-fa769b6624b5",
   "metadata": {},
   "source": [
    "직접적으로 숫자가 아닌 것을 부여 하여 만들 수 있다."
   ]
  },
  {
   "cell_type": "markdown",
   "id": "42a8d930-c944-4d16-aa50-bcaeb948e037",
   "metadata": {},
   "source": [
    "## fancy indexing"
   ]
  },
  {
   "cell_type": "code",
   "execution_count": 51,
   "id": "d7f8afd3-55a5-4f35-8d19-9528df8d344b",
   "metadata": {},
   "outputs": [
    {
     "name": "stdout",
     "output_type": "stream",
     "text": [
      "a      바나나\n",
      "b    apple\n",
      "c    grape\n",
      "d      NaN\n",
      "dtype: object\n"
     ]
    }
   ],
   "source": [
    "f = ['바나나', 'apple', 'grape', np.nan]\n",
    "s = pd.Series(f,index =list('abcd'))\n",
    "print(s)"
   ]
  },
  {
   "cell_type": "code",
   "execution_count": 52,
   "id": "14c923d2-e329-4559-8445-e974e0a7e03f",
   "metadata": {},
   "outputs": [
    {
     "data": {
      "text/plain": [
       "d    NaN\n",
       "a    바나나\n",
       "dtype: object"
      ]
     },
     "execution_count": 52,
     "metadata": {},
     "output_type": "execute_result"
    }
   ],
   "source": [
    "s['a']\n",
    "s[['d','a']]"
   ]
  },
  {
   "cell_type": "markdown",
   "id": "76b1b4be-b04e-4b7e-89ce-1ddc4240d16f",
   "metadata": {},
   "source": [
    "## bool indexing\n"
   ]
  },
  {
   "cell_type": "code",
   "execution_count": 53,
   "id": "c1a6b2e2-a5db-49b3-94cf-224c335e3b93",
   "metadata": {
    "scrolled": true
   },
   "outputs": [
    {
     "name": "stdout",
     "output_type": "stream",
     "text": [
      "0     1.0\n",
      "1     3.0\n",
      "2     NaN\n",
      "3    10.0\n",
      "4    11.0\n",
      "5     NaN\n",
      "dtype: float64\n"
     ]
    }
   ],
   "source": [
    "s = pd.Series([1,3, np.nan,10,11,np.nan])\n",
    "print(s)"
   ]
  },
  {
   "cell_type": "code",
   "execution_count": 54,
   "id": "da6e66f6-bed9-4984-aa53-8ad6a4a140ae",
   "metadata": {},
   "outputs": [
    {
     "data": {
      "text/plain": [
       "0    False\n",
       "1    False\n",
       "2     True\n",
       "3    False\n",
       "4    False\n",
       "5     True\n",
       "dtype: bool"
      ]
     },
     "execution_count": 54,
     "metadata": {},
     "output_type": "execute_result"
    }
   ],
   "source": [
    "s.isnull()  "
   ]
  },
  {
   "cell_type": "markdown",
   "id": "a6de8335-acd4-4848-9fc7-65d6c49be58e",
   "metadata": {},
   "source": [
    "숫자가 아는 것을 true로 분류 해줌"
   ]
  },
  {
   "cell_type": "code",
   "execution_count": 55,
   "id": "a2355f9c-3457-4df8-899a-afdf774ea15f",
   "metadata": {},
   "outputs": [
    {
     "data": {
      "text/plain": [
       "0    False\n",
       "1    False\n",
       "2     True\n",
       "3    False\n",
       "4    False\n",
       "5     True\n",
       "dtype: bool"
      ]
     },
     "execution_count": 55,
     "metadata": {},
     "output_type": "execute_result"
    }
   ],
   "source": [
    "s.isna()"
   ]
  },
  {
   "cell_type": "code",
   "execution_count": 56,
   "id": "111afb33-c341-4ebb-a9c2-4956930d294d",
   "metadata": {},
   "outputs": [
    {
     "data": {
      "text/plain": [
       "2   NaN\n",
       "5   NaN\n",
       "dtype: float64"
      ]
     },
     "execution_count": 56,
     "metadata": {},
     "output_type": "execute_result"
    }
   ],
   "source": [
    "s[s.isnull()]  # 수가 아닌 것만 보여줌"
   ]
  },
  {
   "cell_type": "code",
   "execution_count": 58,
   "id": "9f0c594e-7cd3-49eb-a1bc-c18dd06d25a0",
   "metadata": {},
   "outputs": [
    {
     "data": {
      "text/plain": [
       "0     1.0\n",
       "1     3.0\n",
       "3    10.0\n",
       "4    11.0\n",
       "dtype: float64"
      ]
     },
     "execution_count": 58,
     "metadata": {},
     "output_type": "execute_result"
    }
   ],
   "source": [
    "s[s.notnull()]  # 숫자인 것만 보여줌"
   ]
  },
  {
   "cell_type": "code",
   "execution_count": 59,
   "id": "76bf9173-7a49-42e3-88a5-250d7dc9ab99",
   "metadata": {},
   "outputs": [
    {
     "data": {
      "text/plain": [
       "0     1.0\n",
       "1     3.0\n",
       "3    10.0\n",
       "4    11.0\n",
       "dtype: float64"
      ]
     },
     "execution_count": 59,
     "metadata": {},
     "output_type": "execute_result"
    }
   ],
   "source": [
    "s[s.notna()]"
   ]
  },
  {
   "cell_type": "markdown",
   "id": "61b907dd-dff7-4f61-bae7-7a24f96797a5",
   "metadata": {},
   "source": [
    "## slcing"
   ]
  },
  {
   "cell_type": "code",
   "execution_count": 62,
   "id": "792459f7-3bcc-474e-bf50-6c4c2ecc61ae",
   "metadata": {},
   "outputs": [],
   "source": [
    "s = pd.Series([1,2,3], index =list('abc'))"
   ]
  },
  {
   "cell_type": "code",
   "execution_count": 64,
   "id": "bf7bb49e-5478-4d82-83f2-a1a00b05ee1a",
   "metadata": {},
   "outputs": [
    {
     "data": {
      "text/plain": [
       "a    1\n",
       "b    2\n",
       "dtype: int64"
      ]
     },
     "execution_count": 64,
     "metadata": {},
     "output_type": "execute_result"
    }
   ],
   "source": [
    "s[1:2]\n",
    "s['a':'b']"
   ]
  },
  {
   "cell_type": "markdown",
   "id": "c6011161-52c6-4dff-a8cc-0ec9e96a3403",
   "metadata": {},
   "source": [
    "## dataframe\n",
    "\n",
    "- 판다스에서 사용하는 2차원 데이터 구조\n",
    "  (excel, sheet와 유사)\n",
    "- 행(row), 열 (column)구조"
   ]
  },
  {
   "cell_type": "code",
   "execution_count": 65,
   "id": "39f9c91b-f49c-42da-80ab-d8c798d7890a",
   "metadata": {},
   "outputs": [
    {
     "data": {
      "text/html": [
       "<div>\n",
       "<style scoped>\n",
       "    .dataframe tbody tr th:only-of-type {\n",
       "        vertical-align: middle;\n",
       "    }\n",
       "\n",
       "    .dataframe tbody tr th {\n",
       "        vertical-align: top;\n",
       "    }\n",
       "\n",
       "    .dataframe thead th {\n",
       "        text-align: right;\n",
       "    }\n",
       "</style>\n",
       "<table border=\"1\" class=\"dataframe\">\n",
       "  <thead>\n",
       "    <tr style=\"text-align: right;\">\n",
       "      <th></th>\n",
       "      <th>0</th>\n",
       "      <th>1</th>\n",
       "      <th>2</th>\n",
       "    </tr>\n",
       "  </thead>\n",
       "  <tbody>\n",
       "    <tr>\n",
       "      <th>0</th>\n",
       "      <td>1</td>\n",
       "      <td>2</td>\n",
       "      <td>3</td>\n",
       "    </tr>\n",
       "    <tr>\n",
       "      <th>1</th>\n",
       "      <td>4</td>\n",
       "      <td>5</td>\n",
       "      <td>6</td>\n",
       "    </tr>\n",
       "    <tr>\n",
       "      <th>2</th>\n",
       "      <td>7</td>\n",
       "      <td>8</td>\n",
       "      <td>9</td>\n",
       "    </tr>\n",
       "  </tbody>\n",
       "</table>\n",
       "</div>"
      ],
      "text/plain": [
       "   0  1  2\n",
       "0  1  2  3\n",
       "1  4  5  6\n",
       "2  7  8  9"
      ]
     },
     "execution_count": 65,
     "metadata": {},
     "output_type": "execute_result"
    }
   ],
   "source": [
    "d =pd.DataFrame([\n",
    "    [1,2,3],\n",
    "    [4,5,6],\n",
    "    [7,8,9]\n",
    "])\n",
    "d"
   ]
  },
  {
   "cell_type": "code",
   "execution_count": 66,
   "id": "117dfaf3-2db5-488c-b870-9f2f2d66ad80",
   "metadata": {},
   "outputs": [
    {
     "data": {
      "text/html": [
       "<div>\n",
       "<style scoped>\n",
       "    .dataframe tbody tr th:only-of-type {\n",
       "        vertical-align: middle;\n",
       "    }\n",
       "\n",
       "    .dataframe tbody tr th {\n",
       "        vertical-align: top;\n",
       "    }\n",
       "\n",
       "    .dataframe thead th {\n",
       "        text-align: right;\n",
       "    }\n",
       "</style>\n",
       "<table border=\"1\" class=\"dataframe\">\n",
       "  <thead>\n",
       "    <tr style=\"text-align: right;\">\n",
       "      <th></th>\n",
       "      <th>가</th>\n",
       "      <th>나</th>\n",
       "      <th>다</th>\n",
       "    </tr>\n",
       "  </thead>\n",
       "  <tbody>\n",
       "    <tr>\n",
       "      <th>0</th>\n",
       "      <td>1</td>\n",
       "      <td>2</td>\n",
       "      <td>3</td>\n",
       "    </tr>\n",
       "    <tr>\n",
       "      <th>1</th>\n",
       "      <td>4</td>\n",
       "      <td>5</td>\n",
       "      <td>6</td>\n",
       "    </tr>\n",
       "    <tr>\n",
       "      <th>2</th>\n",
       "      <td>7</td>\n",
       "      <td>8</td>\n",
       "      <td>9</td>\n",
       "    </tr>\n",
       "  </tbody>\n",
       "</table>\n",
       "</div>"
      ],
      "text/plain": [
       "   가  나  다\n",
       "0  1  2  3\n",
       "1  4  5  6\n",
       "2  7  8  9"
      ]
     },
     "execution_count": 66,
     "metadata": {},
     "output_type": "execute_result"
    }
   ],
   "source": [
    "d = pd.DataFrame([\n",
    "    [1,2,3],\n",
    "    [4,5,6],\n",
    "    [7,8,9],\n",
    "], columns = ['가', '나', '다'])\n",
    "d"
   ]
  },
  {
   "cell_type": "markdown",
   "id": "d81387d4-fcb1-4f72-8c98-353af03318b6",
   "metadata": {},
   "source": [
    "- 열에 가나다를 부여"
   ]
  },
  {
   "cell_type": "code",
   "execution_count": 67,
   "id": "fc4649d7-e8a1-46b9-b1b6-506a35bfcc31",
   "metadata": {},
   "outputs": [
    {
     "ename": "TypeError",
     "evalue": "DataFrame.__init__() got an unexpected keyword argument 'row'",
     "output_type": "error",
     "traceback": [
      "\u001b[0;31m---------------------------------------------------------------------------\u001b[0m",
      "\u001b[0;31mTypeError\u001b[0m                                 Traceback (most recent call last)",
      "Cell \u001b[0;32mIn[67], line 1\u001b[0m\n\u001b[0;32m----> 1\u001b[0m d \u001b[38;5;241m=\u001b[39m \u001b[43mpd\u001b[49m\u001b[38;5;241;43m.\u001b[39;49m\u001b[43mDataFrame\u001b[49m\u001b[43m(\u001b[49m\u001b[43m[\u001b[49m\n\u001b[1;32m      2\u001b[0m \u001b[43m    \u001b[49m\u001b[43m[\u001b[49m\u001b[38;5;241;43m1\u001b[39;49m\u001b[43m,\u001b[49m\u001b[38;5;241;43m2\u001b[39;49m\u001b[43m,\u001b[49m\u001b[38;5;241;43m3\u001b[39;49m\u001b[43m]\u001b[49m\u001b[43m,\u001b[49m\n\u001b[1;32m      3\u001b[0m \u001b[43m    \u001b[49m\u001b[43m[\u001b[49m\u001b[38;5;241;43m4\u001b[39;49m\u001b[43m,\u001b[49m\u001b[38;5;241;43m5\u001b[39;49m\u001b[43m,\u001b[49m\u001b[38;5;241;43m6\u001b[39;49m\u001b[43m]\u001b[49m\u001b[43m,\u001b[49m\n\u001b[1;32m      4\u001b[0m \u001b[43m    \u001b[49m\u001b[43m[\u001b[49m\u001b[38;5;241;43m7\u001b[39;49m\u001b[43m,\u001b[49m\u001b[38;5;241;43m8\u001b[39;49m\u001b[43m,\u001b[49m\u001b[38;5;241;43m9\u001b[39;49m\u001b[43m]\u001b[49m\u001b[43m,\u001b[49m\n\u001b[1;32m      5\u001b[0m \u001b[43m]\u001b[49m\u001b[43m,\u001b[49m\u001b[43m \u001b[49m\u001b[43mrow\u001b[49m\u001b[43m \u001b[49m\u001b[38;5;241;43m=\u001b[39;49m\u001b[43m \u001b[49m\u001b[43m[\u001b[49m\u001b[38;5;124;43m'\u001b[39;49m\u001b[38;5;124;43ma\u001b[39;49m\u001b[38;5;124;43m'\u001b[39;49m\u001b[43m,\u001b[49m\u001b[38;5;124;43m'\u001b[39;49m\u001b[38;5;124;43mb\u001b[39;49m\u001b[38;5;124;43m'\u001b[39;49m\u001b[43m,\u001b[49m\u001b[38;5;124;43m'\u001b[39;49m\u001b[38;5;124;43mc\u001b[39;49m\u001b[38;5;124;43m'\u001b[39;49m\u001b[43m]\u001b[49m\u001b[43m)\u001b[49m\n\u001b[1;32m      6\u001b[0m d\n",
      "\u001b[0;31mTypeError\u001b[0m: DataFrame.__init__() got an unexpected keyword argument 'row'"
     ]
    }
   ],
   "source": [
    "d = pd.DataFrame([\n",
    "    [1,2,3],\n",
    "    [4,5,6],\n",
    "    [7,8,9],\n",
    "], row = ['a','b','c'])\n",
    "d"
   ]
  },
  {
   "cell_type": "markdown",
   "id": "2039a8fe-44f2-463c-b96f-378a2ce6fdbd",
   "metadata": {},
   "source": [
    "- 안되는 이유는 row라는 값이 존재 하지 않으며 , 행은 index로 접근 하는 것이 맞음"
   ]
  },
  {
   "cell_type": "code",
   "execution_count": 68,
   "id": "0afbefb1-e020-4923-93c5-ccff49bf4172",
   "metadata": {},
   "outputs": [],
   "source": [
    "info = {\n",
    "    'name' : ['kim','lee','park'],\n",
    "    'age' : [10, 20, 30]\n",
    "}    # 길이가 맞아야 한다"
   ]
  },
  {
   "cell_type": "code",
   "execution_count": 69,
   "id": "b916626d-10f5-4263-aeca-1f02610139d8",
   "metadata": {},
   "outputs": [],
   "source": [
    "info_df = pd.DataFrame(info)"
   ]
  },
  {
   "cell_type": "code",
   "execution_count": 71,
   "id": "088286dd-a171-48ce-99c1-031c59d49fa0",
   "metadata": {},
   "outputs": [
    {
     "name": "stdout",
     "output_type": "stream",
     "text": [
      "Index(['name', 'age'], dtype='object')\n",
      "[['kim' 10]\n",
      " ['lee' 20]\n",
      " ['park' 30]]\n"
     ]
    }
   ],
   "source": [
    "print(info_df.columns)\n",
    "print(info_df.values)"
   ]
  },
  {
   "cell_type": "code",
   "execution_count": 72,
   "id": "7b6a2bc0-c482-46ff-9b95-8e218715bfca",
   "metadata": {},
   "outputs": [
    {
     "data": {
      "text/html": [
       "<div>\n",
       "<style scoped>\n",
       "    .dataframe tbody tr th:only-of-type {\n",
       "        vertical-align: middle;\n",
       "    }\n",
       "\n",
       "    .dataframe tbody tr th {\n",
       "        vertical-align: top;\n",
       "    }\n",
       "\n",
       "    .dataframe thead th {\n",
       "        text-align: right;\n",
       "    }\n",
       "</style>\n",
       "<table border=\"1\" class=\"dataframe\">\n",
       "  <thead>\n",
       "    <tr style=\"text-align: right;\">\n",
       "      <th></th>\n",
       "      <th>0</th>\n",
       "      <th>1</th>\n",
       "      <th>2</th>\n",
       "    </tr>\n",
       "  </thead>\n",
       "  <tbody>\n",
       "    <tr>\n",
       "      <th>name</th>\n",
       "      <td>kim</td>\n",
       "      <td>lee</td>\n",
       "      <td>park</td>\n",
       "    </tr>\n",
       "    <tr>\n",
       "      <th>age</th>\n",
       "      <td>10</td>\n",
       "      <td>20</td>\n",
       "      <td>30</td>\n",
       "    </tr>\n",
       "  </tbody>\n",
       "</table>\n",
       "</div>"
      ],
      "text/plain": [
       "        0    1     2\n",
       "name  kim  lee  park\n",
       "age    10   20    30"
      ]
     },
     "execution_count": 72,
     "metadata": {},
     "output_type": "execute_result"
    }
   ],
   "source": [
    "info_df.T  #대칭도 가능 함유\n"
   ]
  },
  {
   "cell_type": "markdown",
   "id": "19efec54-2b85-4e6a-9403-9ff58da6ec7b",
   "metadata": {},
   "source": [
    "### index 지정"
   ]
  },
  {
   "cell_type": "code",
   "execution_count": 73,
   "id": "5baa5ad4-b371-4b7b-93e2-31c203b3d76d",
   "metadata": {},
   "outputs": [
    {
     "data": {
      "text/html": [
       "<div>\n",
       "<style scoped>\n",
       "    .dataframe tbody tr th:only-of-type {\n",
       "        vertical-align: middle;\n",
       "    }\n",
       "\n",
       "    .dataframe tbody tr th {\n",
       "        vertical-align: top;\n",
       "    }\n",
       "\n",
       "    .dataframe thead th {\n",
       "        text-align: right;\n",
       "    }\n",
       "</style>\n",
       "<table border=\"1\" class=\"dataframe\">\n",
       "  <thead>\n",
       "    <tr style=\"text-align: right;\">\n",
       "      <th></th>\n",
       "      <th>name</th>\n",
       "      <th>age</th>\n",
       "    </tr>\n",
       "  </thead>\n",
       "  <tbody>\n",
       "    <tr>\n",
       "      <th>a</th>\n",
       "      <td>kim</td>\n",
       "      <td>10</td>\n",
       "    </tr>\n",
       "    <tr>\n",
       "      <th>b</th>\n",
       "      <td>lee</td>\n",
       "      <td>20</td>\n",
       "    </tr>\n",
       "    <tr>\n",
       "      <th>c</th>\n",
       "      <td>park</td>\n",
       "      <td>30</td>\n",
       "    </tr>\n",
       "  </tbody>\n",
       "</table>\n",
       "</div>"
      ],
      "text/plain": [
       "   name  age\n",
       "a   kim   10\n",
       "b   lee   20\n",
       "c  park   30"
      ]
     },
     "execution_count": 73,
     "metadata": {},
     "output_type": "execute_result"
    }
   ],
   "source": [
    "info_df.index = list('abc')\n",
    "info_df"
   ]
  },
  {
   "cell_type": "markdown",
   "id": "6cb00684-1c66-484d-a375-e278a012e369",
   "metadata": {},
   "source": [
    "### column 다루기"
   ]
  },
  {
   "cell_type": "code",
   "execution_count": 74,
   "id": "8f54f185-4b13-4718-b989-6cd28b8eab36",
   "metadata": {},
   "outputs": [
    {
     "data": {
      "text/plain": [
       "Index(['name', 'age'], dtype='object')"
      ]
     },
     "execution_count": 74,
     "metadata": {},
     "output_type": "execute_result"
    }
   ],
   "source": [
    "info_df.columns"
   ]
  },
  {
   "cell_type": "code",
   "execution_count": 75,
   "id": "84c861c4-8f1f-4a9f-8af4-002b396129a7",
   "metadata": {},
   "outputs": [
    {
     "name": "stdout",
     "output_type": "stream",
     "text": [
      "a     kim\n",
      "b     lee\n",
      "c    park\n",
      "Name: name, dtype: object\n",
      "<class 'pandas.core.series.Series'>\n"
     ]
    }
   ],
   "source": [
    "print(info_df['name'] )  \n",
    "print(type(info_df['name'] ))    "
   ]
  },
  {
   "cell_type": "markdown",
   "id": "8c22fd23-9ff4-4ffb-991c-8137e78c0fbf",
   "metadata": {},
   "source": [
    "- 인덱스에 대한 접근이 같아 , 열에 대한 정보를 넣으면 해당 정보를 모두 불러 올 수 있음"
   ]
  },
  {
   "cell_type": "code",
   "execution_count": 76,
   "id": "e8651a21-e58a-47c8-83b6-97828979bfae",
   "metadata": {},
   "outputs": [
    {
     "data": {
      "text/html": [
       "<div>\n",
       "<style scoped>\n",
       "    .dataframe tbody tr th:only-of-type {\n",
       "        vertical-align: middle;\n",
       "    }\n",
       "\n",
       "    .dataframe tbody tr th {\n",
       "        vertical-align: top;\n",
       "    }\n",
       "\n",
       "    .dataframe thead th {\n",
       "        text-align: right;\n",
       "    }\n",
       "</style>\n",
       "<table border=\"1\" class=\"dataframe\">\n",
       "  <thead>\n",
       "    <tr style=\"text-align: right;\">\n",
       "      <th></th>\n",
       "      <th>age</th>\n",
       "      <th>name</th>\n",
       "    </tr>\n",
       "  </thead>\n",
       "  <tbody>\n",
       "    <tr>\n",
       "      <th>a</th>\n",
       "      <td>10</td>\n",
       "      <td>kim</td>\n",
       "    </tr>\n",
       "    <tr>\n",
       "      <th>b</th>\n",
       "      <td>20</td>\n",
       "      <td>lee</td>\n",
       "    </tr>\n",
       "    <tr>\n",
       "      <th>c</th>\n",
       "      <td>30</td>\n",
       "      <td>park</td>\n",
       "    </tr>\n",
       "  </tbody>\n",
       "</table>\n",
       "</div>"
      ],
      "text/plain": [
       "   age  name\n",
       "a   10   kim\n",
       "b   20   lee\n",
       "c   30  park"
      ]
     },
     "execution_count": 76,
     "metadata": {},
     "output_type": "execute_result"
    }
   ],
   "source": [
    "info_df[     ['age','name']        ]  "
   ]
  },
  {
   "cell_type": "code",
   "execution_count": 78,
   "id": "8237b38b-ebc4-43ea-87ad-c9051916c280",
   "metadata": {},
   "outputs": [],
   "source": [
    " #컬럼의  fancy indexing\n",
    "# 나이를 먼저 보고 싶다 이거지요"
   ]
  },
  {
   "cell_type": "code",
   "execution_count": 87,
   "id": "98efeace-7ceb-44b1-b720-bc56eeb76042",
   "metadata": {},
   "outputs": [
    {
     "data": {
      "text/html": [
       "<div>\n",
       "<style scoped>\n",
       "    .dataframe tbody tr th:only-of-type {\n",
       "        vertical-align: middle;\n",
       "    }\n",
       "\n",
       "    .dataframe tbody tr th {\n",
       "        vertical-align: top;\n",
       "    }\n",
       "\n",
       "    .dataframe thead th {\n",
       "        text-align: right;\n",
       "    }\n",
       "</style>\n",
       "<table border=\"1\" class=\"dataframe\">\n",
       "  <thead>\n",
       "    <tr style=\"text-align: right;\">\n",
       "      <th></th>\n",
       "      <th>이름</th>\n",
       "      <th>age</th>\n",
       "    </tr>\n",
       "  </thead>\n",
       "  <tbody>\n",
       "    <tr>\n",
       "      <th>a</th>\n",
       "      <td>kim</td>\n",
       "      <td>10</td>\n",
       "    </tr>\n",
       "    <tr>\n",
       "      <th>b</th>\n",
       "      <td>lee</td>\n",
       "      <td>20</td>\n",
       "    </tr>\n",
       "    <tr>\n",
       "      <th>c</th>\n",
       "      <td>park</td>\n",
       "      <td>30</td>\n",
       "    </tr>\n",
       "  </tbody>\n",
       "</table>\n",
       "</div>"
      ],
      "text/plain": [
       "     이름  age\n",
       "a   kim   10\n",
       "b   lee   20\n",
       "c  park   30"
      ]
     },
     "execution_count": 87,
     "metadata": {},
     "output_type": "execute_result"
    }
   ],
   "source": [
    "info_df.rename(columns= {'name' : '이름'})  "
   ]
  },
  {
   "cell_type": "markdown",
   "id": "472b3c69-b4fc-4aeb-adee-fab623df020f",
   "metadata": {},
   "source": [
    "- name을 이름으로 바꾸고 싶어요"
   ]
  },
  {
   "cell_type": "code",
   "execution_count": 89,
   "id": "a05c38e4-0ba2-4729-9208-df1621e03df4",
   "metadata": {},
   "outputs": [],
   "source": [
    "info_df = info_df.rename(columns= {'name' : '이름'}) "
   ]
  },
  {
   "cell_type": "code",
   "execution_count": 90,
   "id": "3f899d28-c083-42ee-933a-f25bac79a39a",
   "metadata": {},
   "outputs": [
    {
     "data": {
      "text/html": [
       "<div>\n",
       "<style scoped>\n",
       "    .dataframe tbody tr th:only-of-type {\n",
       "        vertical-align: middle;\n",
       "    }\n",
       "\n",
       "    .dataframe tbody tr th {\n",
       "        vertical-align: top;\n",
       "    }\n",
       "\n",
       "    .dataframe thead th {\n",
       "        text-align: right;\n",
       "    }\n",
       "</style>\n",
       "<table border=\"1\" class=\"dataframe\">\n",
       "  <thead>\n",
       "    <tr style=\"text-align: right;\">\n",
       "      <th></th>\n",
       "      <th>이름</th>\n",
       "      <th>age</th>\n",
       "    </tr>\n",
       "  </thead>\n",
       "  <tbody>\n",
       "    <tr>\n",
       "      <th>a</th>\n",
       "      <td>kim</td>\n",
       "      <td>10</td>\n",
       "    </tr>\n",
       "    <tr>\n",
       "      <th>b</th>\n",
       "      <td>lee</td>\n",
       "      <td>20</td>\n",
       "    </tr>\n",
       "    <tr>\n",
       "      <th>c</th>\n",
       "      <td>park</td>\n",
       "      <td>30</td>\n",
       "    </tr>\n",
       "  </tbody>\n",
       "</table>\n",
       "</div>"
      ],
      "text/plain": [
       "     이름  age\n",
       "a   kim   10\n",
       "b   lee   20\n",
       "c  park   30"
      ]
     },
     "execution_count": 90,
     "metadata": {},
     "output_type": "execute_result"
    }
   ],
   "source": [
    "info_df"
   ]
  },
  {
   "cell_type": "markdown",
   "id": "40500c84-f546-469d-be74-3a14898568d4",
   "metadata": {},
   "source": [
    "- 바꾼 값을 영구적으로 저장하고 싶을때 사용함 ,,, 굳이 바꾸고 싶지 않을 경우에는 데프 인포에 넣을 필요가 없긴 함 "
   ]
  },
  {
   "cell_type": "code",
   "execution_count": 91,
   "id": "6915a9ac-1980-44ad-9130-be0260c3d259",
   "metadata": {},
   "outputs": [],
   "source": [
    "info_df.rename(columns= {'이름' : 'last_name'}, inplace=True)  "
   ]
  },
  {
   "cell_type": "code",
   "execution_count": 92,
   "id": "b95bd2d2-a48d-41c5-8d01-8d80cef94ce4",
   "metadata": {
    "scrolled": true
   },
   "outputs": [
    {
     "data": {
      "text/html": [
       "<div>\n",
       "<style scoped>\n",
       "    .dataframe tbody tr th:only-of-type {\n",
       "        vertical-align: middle;\n",
       "    }\n",
       "\n",
       "    .dataframe tbody tr th {\n",
       "        vertical-align: top;\n",
       "    }\n",
       "\n",
       "    .dataframe thead th {\n",
       "        text-align: right;\n",
       "    }\n",
       "</style>\n",
       "<table border=\"1\" class=\"dataframe\">\n",
       "  <thead>\n",
       "    <tr style=\"text-align: right;\">\n",
       "      <th></th>\n",
       "      <th>last_name</th>\n",
       "      <th>age</th>\n",
       "    </tr>\n",
       "  </thead>\n",
       "  <tbody>\n",
       "    <tr>\n",
       "      <th>a</th>\n",
       "      <td>kim</td>\n",
       "      <td>10</td>\n",
       "    </tr>\n",
       "    <tr>\n",
       "      <th>b</th>\n",
       "      <td>lee</td>\n",
       "      <td>20</td>\n",
       "    </tr>\n",
       "    <tr>\n",
       "      <th>c</th>\n",
       "      <td>park</td>\n",
       "      <td>30</td>\n",
       "    </tr>\n",
       "  </tbody>\n",
       "</table>\n",
       "</div>"
      ],
      "text/plain": [
       "  last_name  age\n",
       "a       kim   10\n",
       "b       lee   20\n",
       "c      park   30"
      ]
     },
     "execution_count": 92,
     "metadata": {},
     "output_type": "execute_result"
    }
   ],
   "source": [
    "info_df"
   ]
  },
  {
   "cell_type": "code",
   "execution_count": 94,
   "id": "d78e5b06-9ed3-4d09-8fad-0f1f708fdd53",
   "metadata": {},
   "outputs": [],
   "source": [
    "excel = pd.read_excel('data/DAMF2.xlsx')"
   ]
  },
  {
   "cell_type": "markdown",
   "id": "119c236c-8c0e-42c7-8a28-acf6bd0cecb2",
   "metadata": {},
   "source": [
    "- 컴퓨터에 있는 엑셀 파일을 불러 올 수 있다"
   ]
  },
  {
   "cell_type": "code",
   "execution_count": 95,
   "id": "36652a56-4aef-4c04-9893-5847be6f0d6c",
   "metadata": {},
   "outputs": [
    {
     "data": {
      "text/html": [
       "<div>\n",
       "<style scoped>\n",
       "    .dataframe tbody tr th:only-of-type {\n",
       "        vertical-align: middle;\n",
       "    }\n",
       "\n",
       "    .dataframe tbody tr th {\n",
       "        vertical-align: top;\n",
       "    }\n",
       "\n",
       "    .dataframe thead th {\n",
       "        text-align: right;\n",
       "    }\n",
       "</style>\n",
       "<table border=\"1\" class=\"dataframe\">\n",
       "  <thead>\n",
       "    <tr style=\"text-align: right;\">\n",
       "      <th></th>\n",
       "      <th>이름</th>\n",
       "      <th>github</th>\n",
       "    </tr>\n",
       "  </thead>\n",
       "  <tbody>\n",
       "    <tr>\n",
       "      <th>0</th>\n",
       "      <td>오창희</td>\n",
       "      <td>5chang2</td>\n",
       "    </tr>\n",
       "    <tr>\n",
       "      <th>1</th>\n",
       "      <td>권기남</td>\n",
       "      <td>kka712</td>\n",
       "    </tr>\n",
       "    <tr>\n",
       "      <th>2</th>\n",
       "      <td>김광성</td>\n",
       "      <td>kgs3770</td>\n",
       "    </tr>\n",
       "    <tr>\n",
       "      <th>3</th>\n",
       "      <td>김승현</td>\n",
       "      <td>wnshite</td>\n",
       "    </tr>\n",
       "    <tr>\n",
       "      <th>4</th>\n",
       "      <td>김윤식</td>\n",
       "      <td>rladbstlr87</td>\n",
       "    </tr>\n",
       "    <tr>\n",
       "      <th>5</th>\n",
       "      <td>김주성</td>\n",
       "      <td>darkmonke</td>\n",
       "    </tr>\n",
       "    <tr>\n",
       "      <th>6</th>\n",
       "      <td>민예린</td>\n",
       "      <td>Yerineeeee98</td>\n",
       "    </tr>\n",
       "    <tr>\n",
       "      <th>7</th>\n",
       "      <td>박선민</td>\n",
       "      <td>manimo1234</td>\n",
       "    </tr>\n",
       "    <tr>\n",
       "      <th>8</th>\n",
       "      <td>박소리</td>\n",
       "      <td>alslsol</td>\n",
       "    </tr>\n",
       "    <tr>\n",
       "      <th>9</th>\n",
       "      <td>박수빈</td>\n",
       "      <td>vivianpark8</td>\n",
       "    </tr>\n",
       "    <tr>\n",
       "      <th>10</th>\n",
       "      <td>박수현</td>\n",
       "      <td>iam-Aerin</td>\n",
       "    </tr>\n",
       "    <tr>\n",
       "      <th>11</th>\n",
       "      <td>신효진</td>\n",
       "      <td>DSVIT100</td>\n",
       "    </tr>\n",
       "    <tr>\n",
       "      <th>12</th>\n",
       "      <td>양다희</td>\n",
       "      <td>dahee325</td>\n",
       "    </tr>\n",
       "    <tr>\n",
       "      <th>13</th>\n",
       "      <td>이유진</td>\n",
       "      <td>eyoojin</td>\n",
       "    </tr>\n",
       "    <tr>\n",
       "      <th>14</th>\n",
       "      <td>이주현</td>\n",
       "      <td>Lejuhyun</td>\n",
       "    </tr>\n",
       "    <tr>\n",
       "      <th>15</th>\n",
       "      <td>임서영</td>\n",
       "      <td>seoyoung1203</td>\n",
       "    </tr>\n",
       "    <tr>\n",
       "      <th>16</th>\n",
       "      <td>장윤서</td>\n",
       "      <td>jangyunseo4547</td>\n",
       "    </tr>\n",
       "    <tr>\n",
       "      <th>17</th>\n",
       "      <td>조중석</td>\n",
       "      <td>Chojungseok</td>\n",
       "    </tr>\n",
       "    <tr>\n",
       "      <th>18</th>\n",
       "      <td>최민혁</td>\n",
       "      <td>Minhyeok0330</td>\n",
       "    </tr>\n",
       "    <tr>\n",
       "      <th>19</th>\n",
       "      <td>최시언</td>\n",
       "      <td>choisieon</td>\n",
       "    </tr>\n",
       "    <tr>\n",
       "      <th>20</th>\n",
       "      <td>황다인</td>\n",
       "      <td>dain0628</td>\n",
       "    </tr>\n",
       "    <tr>\n",
       "      <th>21</th>\n",
       "      <td>황성진</td>\n",
       "      <td>seongjin5743</td>\n",
       "    </tr>\n",
       "  </tbody>\n",
       "</table>\n",
       "</div>"
      ],
      "text/plain": [
       "     이름          github\n",
       "0   오창희         5chang2\n",
       "1   권기남          kka712\n",
       "2   김광성         kgs3770\n",
       "3   김승현         wnshite\n",
       "4   김윤식     rladbstlr87\n",
       "5   김주성       darkmonke\n",
       "6   민예린    Yerineeeee98\n",
       "7   박선민      manimo1234\n",
       "8   박소리         alslsol\n",
       "9   박수빈     vivianpark8\n",
       "10  박수현       iam-Aerin\n",
       "11  신효진        DSVIT100\n",
       "12  양다희        dahee325\n",
       "13  이유진         eyoojin\n",
       "14  이주현        Lejuhyun\n",
       "15  임서영    seoyoung1203\n",
       "16  장윤서  jangyunseo4547\n",
       "17  조중석     Chojungseok\n",
       "18  최민혁    Minhyeok0330\n",
       "19  최시언       choisieon\n",
       "20  황다인        dain0628\n",
       "21  황성진    seongjin5743"
      ]
     },
     "execution_count": 95,
     "metadata": {},
     "output_type": "execute_result"
    }
   ],
   "source": [
    "excel[['이름','github']]"
   ]
  },
  {
   "cell_type": "markdown",
   "id": "3c26fbbf-9655-4e28-92cf-62cf3b80a6e6",
   "metadata": {},
   "source": [
    "-  필요한 정보만을 받을 수 있다"
   ]
  },
  {
   "cell_type": "code",
   "execution_count": 97,
   "id": "8fc62af5-1bf3-4f26-a14f-a695a2d4bc0c",
   "metadata": {},
   "outputs": [
    {
     "data": {
      "text/html": [
       "<div>\n",
       "<style scoped>\n",
       "    .dataframe tbody tr th:only-of-type {\n",
       "        vertical-align: middle;\n",
       "    }\n",
       "\n",
       "    .dataframe tbody tr th {\n",
       "        vertical-align: top;\n",
       "    }\n",
       "\n",
       "    .dataframe thead th {\n",
       "        text-align: right;\n",
       "    }\n",
       "</style>\n",
       "<table border=\"1\" class=\"dataframe\">\n",
       "  <thead>\n",
       "    <tr style=\"text-align: right;\">\n",
       "      <th></th>\n",
       "      <th>이름</th>\n",
       "      <th>전공</th>\n",
       "      <th>email</th>\n",
       "      <th>github</th>\n",
       "    </tr>\n",
       "  </thead>\n",
       "  <tbody>\n",
       "    <tr>\n",
       "      <th>0</th>\n",
       "      <td>오창희</td>\n",
       "      <td>소프트웨어공학</td>\n",
       "      <td>oche.edu@gmail.com</td>\n",
       "      <td>5chang2</td>\n",
       "    </tr>\n",
       "    <tr>\n",
       "      <th>1</th>\n",
       "      <td>권기남</td>\n",
       "      <td>항공전기전공</td>\n",
       "      <td>rlska213@naver.com</td>\n",
       "      <td>kka712</td>\n",
       "    </tr>\n",
       "    <tr>\n",
       "      <th>2</th>\n",
       "      <td>김광성</td>\n",
       "      <td>경제학과</td>\n",
       "      <td>kgs3770@gmail.com</td>\n",
       "      <td>kgs3770</td>\n",
       "    </tr>\n",
       "    <tr>\n",
       "      <th>3</th>\n",
       "      <td>김승현</td>\n",
       "      <td>음악학과</td>\n",
       "      <td>tmdgus_skfk@naver.com</td>\n",
       "      <td>wnshite</td>\n",
       "    </tr>\n",
       "    <tr>\n",
       "      <th>4</th>\n",
       "      <td>김윤식</td>\n",
       "      <td>중국통상학과</td>\n",
       "      <td>manylong@naver.com</td>\n",
       "      <td>rladbstlr87</td>\n",
       "    </tr>\n",
       "  </tbody>\n",
       "</table>\n",
       "</div>"
      ],
      "text/plain": [
       "    이름       전공                  email       github\n",
       "0  오창희  소프트웨어공학     oche.edu@gmail.com      5chang2\n",
       "1  권기남   항공전기전공     rlska213@naver.com       kka712\n",
       "2  김광성     경제학과      kgs3770@gmail.com      kgs3770\n",
       "3  김승현     음악학과  tmdgus_skfk@naver.com      wnshite\n",
       "4  김윤식   중국통상학과     manylong@naver.com  rladbstlr87"
      ]
     },
     "execution_count": 97,
     "metadata": {},
     "output_type": "execute_result"
    }
   ],
   "source": [
    "excel.head()  #앞부분만 간략하게 보여줌"
   ]
  },
  {
   "cell_type": "code",
   "execution_count": 99,
   "id": "5ed5f9a2-d45a-4b27-9d80-2a8102dec01b",
   "metadata": {},
   "outputs": [
    {
     "data": {
      "text/html": [
       "<div>\n",
       "<style scoped>\n",
       "    .dataframe tbody tr th:only-of-type {\n",
       "        vertical-align: middle;\n",
       "    }\n",
       "\n",
       "    .dataframe tbody tr th {\n",
       "        vertical-align: top;\n",
       "    }\n",
       "\n",
       "    .dataframe thead th {\n",
       "        text-align: right;\n",
       "    }\n",
       "</style>\n",
       "<table border=\"1\" class=\"dataframe\">\n",
       "  <thead>\n",
       "    <tr style=\"text-align: right;\">\n",
       "      <th></th>\n",
       "      <th>가게이름</th>\n",
       "      <th>시간</th>\n",
       "      <th>메뉴</th>\n",
       "      <th>한줄평</th>\n",
       "    </tr>\n",
       "  </thead>\n",
       "  <tbody>\n",
       "    <tr>\n",
       "      <th>0</th>\n",
       "      <td>독립문설렁탕</td>\n",
       "      <td>5분</td>\n",
       "      <td>설랑탕/불고기</td>\n",
       "      <td>설렁탕이 6천원! / 하지만 웨이팅 있음</td>\n",
       "    </tr>\n",
       "    <tr>\n",
       "      <th>1</th>\n",
       "      <td>송준옥</td>\n",
       "      <td>8분</td>\n",
       "      <td>맑은뼈국(국밥)</td>\n",
       "      <td>보통11,000원/특14,000원 bar형식의 테이블로 3~4명가면 일렬로 앉아야되...</td>\n",
       "    </tr>\n",
       "    <tr>\n",
       "      <th>2</th>\n",
       "      <td>종로김밥</td>\n",
       "      <td>NaN</td>\n",
       "      <td>분식</td>\n",
       "      <td>2/12 방문기준 신촌역점은 영업 안했어요! 신촌로터리점은 안가봤어요!</td>\n",
       "    </tr>\n",
       "    <tr>\n",
       "      <th>3</th>\n",
       "      <td>바지락수제비칼국수</td>\n",
       "      <td>8분</td>\n",
       "      <td>수제비,칼국수,김밥</td>\n",
       "      <td>칼국수, 수제비, 칼제비 5,000원 김밥 3,000원 / 자리가 협소해서 2-3팀...</td>\n",
       "    </tr>\n",
       "    <tr>\n",
       "      <th>4</th>\n",
       "      <td>유닭스토리</td>\n",
       "      <td>3분</td>\n",
       "      <td>닭(칼국수, 곰탕, 계장)\\n닭갈비치즈덮밥</td>\n",
       "      <td>10,000~11,000원/자리많아요</td>\n",
       "    </tr>\n",
       "  </tbody>\n",
       "</table>\n",
       "</div>"
      ],
      "text/plain": [
       "        가게이름   시간                       메뉴  \\\n",
       "0     독립문설렁탕   5분                  설랑탕/불고기   \n",
       "1        송준옥   8분                 맑은뼈국(국밥)   \n",
       "2       종로김밥  NaN                       분식   \n",
       "3  바지락수제비칼국수   8분               수제비,칼국수,김밥   \n",
       "4      유닭스토리   3분  닭(칼국수, 곰탕, 계장)\\n닭갈비치즈덮밥   \n",
       "\n",
       "                                                 한줄평  \n",
       "0                             설렁탕이 6천원! / 하지만 웨이팅 있음  \n",
       "1  보통11,000원/특14,000원 bar형식의 테이블로 3~4명가면 일렬로 앉아야되...  \n",
       "2            2/12 방문기준 신촌역점은 영업 안했어요! 신촌로터리점은 안가봤어요!  \n",
       "3  칼국수, 수제비, 칼제비 5,000원 김밥 3,000원 / 자리가 협소해서 2-3팀...  \n",
       "4                               10,000~11,000원/자리많아요  "
      ]
     },
     "execution_count": 99,
     "metadata": {},
     "output_type": "execute_result"
    }
   ],
   "source": [
    "excel = pd.read_excel('data/DAMF2.xlsx', sheet_name='menu')\n",
    "excel.head()  # 시트를 선택해서 볼 수 있음"
   ]
  },
  {
   "cell_type": "code",
   "execution_count": 102,
   "id": "d990eb60-f42d-490b-82a6-a346899dc5c8",
   "metadata": {},
   "outputs": [],
   "source": [
    "menu_df = excel[['가게이름','메뉴']]"
   ]
  },
  {
   "cell_type": "code",
   "execution_count": 103,
   "id": "dd171ec2-c84e-494d-94b8-029f8992023a",
   "metadata": {},
   "outputs": [
    {
     "data": {
      "text/html": [
       "<div>\n",
       "<style scoped>\n",
       "    .dataframe tbody tr th:only-of-type {\n",
       "        vertical-align: middle;\n",
       "    }\n",
       "\n",
       "    .dataframe tbody tr th {\n",
       "        vertical-align: top;\n",
       "    }\n",
       "\n",
       "    .dataframe thead th {\n",
       "        text-align: right;\n",
       "    }\n",
       "</style>\n",
       "<table border=\"1\" class=\"dataframe\">\n",
       "  <thead>\n",
       "    <tr style=\"text-align: right;\">\n",
       "      <th></th>\n",
       "      <th>가게이름</th>\n",
       "      <th>메뉴</th>\n",
       "    </tr>\n",
       "  </thead>\n",
       "  <tbody>\n",
       "    <tr>\n",
       "      <th>0</th>\n",
       "      <td>독립문설렁탕</td>\n",
       "      <td>설랑탕/불고기</td>\n",
       "    </tr>\n",
       "    <tr>\n",
       "      <th>1</th>\n",
       "      <td>송준옥</td>\n",
       "      <td>맑은뼈국(국밥)</td>\n",
       "    </tr>\n",
       "    <tr>\n",
       "      <th>2</th>\n",
       "      <td>종로김밥</td>\n",
       "      <td>분식</td>\n",
       "    </tr>\n",
       "    <tr>\n",
       "      <th>3</th>\n",
       "      <td>바지락수제비칼국수</td>\n",
       "      <td>수제비,칼국수,김밥</td>\n",
       "    </tr>\n",
       "    <tr>\n",
       "      <th>4</th>\n",
       "      <td>유닭스토리</td>\n",
       "      <td>닭(칼국수, 곰탕, 계장)\\n닭갈비치즈덮밥</td>\n",
       "    </tr>\n",
       "  </tbody>\n",
       "</table>\n",
       "</div>"
      ],
      "text/plain": [
       "        가게이름                       메뉴\n",
       "0     독립문설렁탕                  설랑탕/불고기\n",
       "1        송준옥                 맑은뼈국(국밥)\n",
       "2       종로김밥                       분식\n",
       "3  바지락수제비칼국수               수제비,칼국수,김밥\n",
       "4      유닭스토리  닭(칼국수, 곰탕, 계장)\\n닭갈비치즈덮밥"
      ]
     },
     "execution_count": 103,
     "metadata": {},
     "output_type": "execute_result"
    }
   ],
   "source": [
    "menu_df.head()"
   ]
  },
  {
   "cell_type": "code",
   "execution_count": 104,
   "id": "80d77659-33a0-43b8-8c14-5963ed8f7357",
   "metadata": {},
   "outputs": [],
   "source": [
    "menu_df.to_excel('data/sample2.xlsx',index =False)"
   ]
  },
  {
   "cell_type": "markdown",
   "id": "6daf6117-95f9-4508-9900-b60a5e8de2e5",
   "metadata": {},
   "source": [
    "- 저장 하고 싶은 위치에 저장 할 수 있다"
   ]
  },
  {
   "cell_type": "markdown",
   "id": "4351e563-798a-410e-912a-f5531dd69f61",
   "metadata": {},
   "source": [
    "### csv"
   ]
  },
  {
   "cell_type": "code",
   "execution_count": 105,
   "id": "39f777e8-c947-4b36-b5e7-3b7e98a1fcca",
   "metadata": {},
   "outputs": [],
   "source": [
    "df = pd.read_csv('data/DAMF2.csv')"
   ]
  },
  {
   "cell_type": "code",
   "execution_count": 106,
   "id": "fbd5bb0e-674b-483f-ba7c-ec9c1e298153",
   "metadata": {},
   "outputs": [
    {
     "data": {
      "text/html": [
       "<div>\n",
       "<style scoped>\n",
       "    .dataframe tbody tr th:only-of-type {\n",
       "        vertical-align: middle;\n",
       "    }\n",
       "\n",
       "    .dataframe tbody tr th {\n",
       "        vertical-align: top;\n",
       "    }\n",
       "\n",
       "    .dataframe thead th {\n",
       "        text-align: right;\n",
       "    }\n",
       "</style>\n",
       "<table border=\"1\" class=\"dataframe\">\n",
       "  <thead>\n",
       "    <tr style=\"text-align: right;\">\n",
       "      <th></th>\n",
       "      <th>이름</th>\n",
       "      <th>전공</th>\n",
       "      <th>email</th>\n",
       "      <th>github</th>\n",
       "    </tr>\n",
       "  </thead>\n",
       "  <tbody>\n",
       "    <tr>\n",
       "      <th>0</th>\n",
       "      <td>오창희</td>\n",
       "      <td>소프트웨어공학</td>\n",
       "      <td>oche.edu@gmail.com</td>\n",
       "      <td>5chang2</td>\n",
       "    </tr>\n",
       "    <tr>\n",
       "      <th>1</th>\n",
       "      <td>권기남</td>\n",
       "      <td>항공전기전공</td>\n",
       "      <td>rlska213@naver.com</td>\n",
       "      <td>kka712</td>\n",
       "    </tr>\n",
       "    <tr>\n",
       "      <th>2</th>\n",
       "      <td>김광성</td>\n",
       "      <td>경제학과</td>\n",
       "      <td>kgs3770@gmail.com</td>\n",
       "      <td>kgs3770</td>\n",
       "    </tr>\n",
       "    <tr>\n",
       "      <th>3</th>\n",
       "      <td>김승현</td>\n",
       "      <td>음악학과</td>\n",
       "      <td>tmdgus_skfk@naver.com</td>\n",
       "      <td>wnshite</td>\n",
       "    </tr>\n",
       "    <tr>\n",
       "      <th>4</th>\n",
       "      <td>김윤식</td>\n",
       "      <td>중국통상학과</td>\n",
       "      <td>manylong@naver.com</td>\n",
       "      <td>rladbstlr87</td>\n",
       "    </tr>\n",
       "  </tbody>\n",
       "</table>\n",
       "</div>"
      ],
      "text/plain": [
       "    이름       전공                  email       github\n",
       "0  오창희  소프트웨어공학     oche.edu@gmail.com      5chang2\n",
       "1  권기남   항공전기전공     rlska213@naver.com       kka712\n",
       "2  김광성     경제학과      kgs3770@gmail.com      kgs3770\n",
       "3  김승현     음악학과  tmdgus_skfk@naver.com      wnshite\n",
       "4  김윤식   중국통상학과     manylong@naver.com  rladbstlr87"
      ]
     },
     "execution_count": 106,
     "metadata": {},
     "output_type": "execute_result"
    }
   ],
   "source": [
    "df.head()"
   ]
  },
  {
   "cell_type": "code",
   "execution_count": 107,
   "id": "5dcae221-faa8-43cd-8210-5d62e2faa9e5",
   "metadata": {},
   "outputs": [],
   "source": [
    "df2 = df[['이름', 'email']]"
   ]
  },
  {
   "cell_type": "code",
   "execution_count": 108,
   "id": "1ca65aeb-aa97-4bc8-8dc5-c9303a186707",
   "metadata": {},
   "outputs": [
    {
     "data": {
      "text/html": [
       "<div>\n",
       "<style scoped>\n",
       "    .dataframe tbody tr th:only-of-type {\n",
       "        vertical-align: middle;\n",
       "    }\n",
       "\n",
       "    .dataframe tbody tr th {\n",
       "        vertical-align: top;\n",
       "    }\n",
       "\n",
       "    .dataframe thead th {\n",
       "        text-align: right;\n",
       "    }\n",
       "</style>\n",
       "<table border=\"1\" class=\"dataframe\">\n",
       "  <thead>\n",
       "    <tr style=\"text-align: right;\">\n",
       "      <th></th>\n",
       "      <th>이름</th>\n",
       "      <th>email</th>\n",
       "    </tr>\n",
       "  </thead>\n",
       "  <tbody>\n",
       "    <tr>\n",
       "      <th>0</th>\n",
       "      <td>오창희</td>\n",
       "      <td>oche.edu@gmail.com</td>\n",
       "    </tr>\n",
       "    <tr>\n",
       "      <th>1</th>\n",
       "      <td>권기남</td>\n",
       "      <td>rlska213@naver.com</td>\n",
       "    </tr>\n",
       "    <tr>\n",
       "      <th>2</th>\n",
       "      <td>김광성</td>\n",
       "      <td>kgs3770@gmail.com</td>\n",
       "    </tr>\n",
       "    <tr>\n",
       "      <th>3</th>\n",
       "      <td>김승현</td>\n",
       "      <td>tmdgus_skfk@naver.com</td>\n",
       "    </tr>\n",
       "    <tr>\n",
       "      <th>4</th>\n",
       "      <td>김윤식</td>\n",
       "      <td>manylong@naver.com</td>\n",
       "    </tr>\n",
       "  </tbody>\n",
       "</table>\n",
       "</div>"
      ],
      "text/plain": [
       "    이름                  email\n",
       "0  오창희     oche.edu@gmail.com\n",
       "1  권기남     rlska213@naver.com\n",
       "2  김광성      kgs3770@gmail.com\n",
       "3  김승현  tmdgus_skfk@naver.com\n",
       "4  김윤식     manylong@naver.com"
      ]
     },
     "execution_count": 108,
     "metadata": {},
     "output_type": "execute_result"
    }
   ],
   "source": [
    "df2.head()"
   ]
  },
  {
   "cell_type": "code",
   "execution_count": 109,
   "id": "e22ca55a-2a62-457b-b0d8-76bf8adb8f49",
   "metadata": {},
   "outputs": [],
   "source": [
    "df2.to_csv('data/sample2.cvs')"
   ]
  },
  {
   "cell_type": "code",
   "execution_count": 1,
   "id": "4a4b6f5d-2bcf-46ae-a484-76e4b6b1ce00",
   "metadata": {},
   "outputs": [],
   "source": [
    "import pandas as pd\n",
    "import seaborn as sns"
   ]
  },
  {
   "cell_type": "code",
   "execution_count": 3,
   "id": "e6a8aa58-b7ff-4e1b-967d-7557bf8befd6",
   "metadata": {},
   "outputs": [],
   "source": [
    "df = sns.load_dataset('penguins')"
   ]
  },
  {
   "cell_type": "code",
   "execution_count": 4,
   "id": "36372795-4e72-48f6-a77c-9b50df605817",
   "metadata": {},
   "outputs": [
    {
     "data": {
      "text/html": [
       "<div>\n",
       "<style scoped>\n",
       "    .dataframe tbody tr th:only-of-type {\n",
       "        vertical-align: middle;\n",
       "    }\n",
       "\n",
       "    .dataframe tbody tr th {\n",
       "        vertical-align: top;\n",
       "    }\n",
       "\n",
       "    .dataframe thead th {\n",
       "        text-align: right;\n",
       "    }\n",
       "</style>\n",
       "<table border=\"1\" class=\"dataframe\">\n",
       "  <thead>\n",
       "    <tr style=\"text-align: right;\">\n",
       "      <th></th>\n",
       "      <th>species</th>\n",
       "      <th>island</th>\n",
       "      <th>bill_length_mm</th>\n",
       "      <th>bill_depth_mm</th>\n",
       "      <th>flipper_length_mm</th>\n",
       "      <th>body_mass_g</th>\n",
       "      <th>sex</th>\n",
       "    </tr>\n",
       "  </thead>\n",
       "  <tbody>\n",
       "    <tr>\n",
       "      <th>0</th>\n",
       "      <td>Adelie</td>\n",
       "      <td>Torgersen</td>\n",
       "      <td>39.1</td>\n",
       "      <td>18.7</td>\n",
       "      <td>181.0</td>\n",
       "      <td>3750.0</td>\n",
       "      <td>Male</td>\n",
       "    </tr>\n",
       "    <tr>\n",
       "      <th>1</th>\n",
       "      <td>Adelie</td>\n",
       "      <td>Torgersen</td>\n",
       "      <td>39.5</td>\n",
       "      <td>17.4</td>\n",
       "      <td>186.0</td>\n",
       "      <td>3800.0</td>\n",
       "      <td>Female</td>\n",
       "    </tr>\n",
       "    <tr>\n",
       "      <th>2</th>\n",
       "      <td>Adelie</td>\n",
       "      <td>Torgersen</td>\n",
       "      <td>40.3</td>\n",
       "      <td>18.0</td>\n",
       "      <td>195.0</td>\n",
       "      <td>3250.0</td>\n",
       "      <td>Female</td>\n",
       "    </tr>\n",
       "    <tr>\n",
       "      <th>3</th>\n",
       "      <td>Adelie</td>\n",
       "      <td>Torgersen</td>\n",
       "      <td>NaN</td>\n",
       "      <td>NaN</td>\n",
       "      <td>NaN</td>\n",
       "      <td>NaN</td>\n",
       "      <td>NaN</td>\n",
       "    </tr>\n",
       "    <tr>\n",
       "      <th>4</th>\n",
       "      <td>Adelie</td>\n",
       "      <td>Torgersen</td>\n",
       "      <td>36.7</td>\n",
       "      <td>19.3</td>\n",
       "      <td>193.0</td>\n",
       "      <td>3450.0</td>\n",
       "      <td>Female</td>\n",
       "    </tr>\n",
       "  </tbody>\n",
       "</table>\n",
       "</div>"
      ],
      "text/plain": [
       "  species     island  bill_length_mm  bill_depth_mm  flipper_length_mm  \\\n",
       "0  Adelie  Torgersen            39.1           18.7              181.0   \n",
       "1  Adelie  Torgersen            39.5           17.4              186.0   \n",
       "2  Adelie  Torgersen            40.3           18.0              195.0   \n",
       "3  Adelie  Torgersen             NaN            NaN                NaN   \n",
       "4  Adelie  Torgersen            36.7           19.3              193.0   \n",
       "\n",
       "   body_mass_g     sex  \n",
       "0       3750.0    Male  \n",
       "1       3800.0  Female  \n",
       "2       3250.0  Female  \n",
       "3          NaN     NaN  \n",
       "4       3450.0  Female  "
      ]
     },
     "execution_count": 4,
     "metadata": {},
     "output_type": "execute_result"
    }
   ],
   "source": [
    "df.head()"
   ]
  },
  {
   "cell_type": "code",
   "execution_count": 5,
   "id": "e8a2019a-ec27-470a-a6b0-c4834d372595",
   "metadata": {
    "collapsed": true,
    "jupyter": {
     "outputs_hidden": true,
     "source_hidden": true
    },
    "scrolled": true
   },
   "outputs": [
    {
     "name": "stdout",
     "output_type": "stream",
     "text": [
      "<class 'pandas.core.frame.DataFrame'>\n",
      "RangeIndex: 344 entries, 0 to 343\n",
      "Data columns (total 7 columns):\n",
      " #   Column             Non-Null Count  Dtype  \n",
      "---  ------             --------------  -----  \n",
      " 0   species            344 non-null    object \n",
      " 1   island             344 non-null    object \n",
      " 2   bill_length_mm     342 non-null    float64\n",
      " 3   bill_depth_mm      342 non-null    float64\n",
      " 4   flipper_length_mm  342 non-null    float64\n",
      " 5   body_mass_g        342 non-null    float64\n",
      " 6   sex                333 non-null    object \n",
      "dtypes: float64(4), object(3)\n",
      "memory usage: 18.9+ KB\n"
     ]
    }
   ],
   "source": [
    "df.info()"
   ]
  },
  {
   "cell_type": "code",
   "execution_count": 11,
   "id": "1ba2837a-dbb4-4901-b165-5ad1e20bd3aa",
   "metadata": {},
   "outputs": [],
   "source": [
    "# 500g  이상의 펭귄 출력\n",
    "\n",
    "HP = df['body_mass_g'] >= 500"
   ]
  },
  {
   "cell_type": "code",
   "execution_count": 13,
   "id": "ee52d45a-2287-4658-8fea-188079baa5b4",
   "metadata": {},
   "outputs": [
    {
     "data": {
      "text/html": [
       "<div>\n",
       "<style scoped>\n",
       "    .dataframe tbody tr th:only-of-type {\n",
       "        vertical-align: middle;\n",
       "    }\n",
       "\n",
       "    .dataframe tbody tr th {\n",
       "        vertical-align: top;\n",
       "    }\n",
       "\n",
       "    .dataframe thead th {\n",
       "        text-align: right;\n",
       "    }\n",
       "</style>\n",
       "<table border=\"1\" class=\"dataframe\">\n",
       "  <thead>\n",
       "    <tr style=\"text-align: right;\">\n",
       "      <th></th>\n",
       "      <th>species</th>\n",
       "      <th>island</th>\n",
       "      <th>bill_length_mm</th>\n",
       "      <th>bill_depth_mm</th>\n",
       "      <th>flipper_length_mm</th>\n",
       "      <th>body_mass_g</th>\n",
       "      <th>sex</th>\n",
       "    </tr>\n",
       "  </thead>\n",
       "  <tbody>\n",
       "    <tr>\n",
       "      <th>0</th>\n",
       "      <td>Adelie</td>\n",
       "      <td>Torgersen</td>\n",
       "      <td>39.1</td>\n",
       "      <td>18.7</td>\n",
       "      <td>181.0</td>\n",
       "      <td>3750.0</td>\n",
       "      <td>Male</td>\n",
       "    </tr>\n",
       "    <tr>\n",
       "      <th>1</th>\n",
       "      <td>Adelie</td>\n",
       "      <td>Torgersen</td>\n",
       "      <td>39.5</td>\n",
       "      <td>17.4</td>\n",
       "      <td>186.0</td>\n",
       "      <td>3800.0</td>\n",
       "      <td>Female</td>\n",
       "    </tr>\n",
       "    <tr>\n",
       "      <th>2</th>\n",
       "      <td>Adelie</td>\n",
       "      <td>Torgersen</td>\n",
       "      <td>40.3</td>\n",
       "      <td>18.0</td>\n",
       "      <td>195.0</td>\n",
       "      <td>3250.0</td>\n",
       "      <td>Female</td>\n",
       "    </tr>\n",
       "    <tr>\n",
       "      <th>4</th>\n",
       "      <td>Adelie</td>\n",
       "      <td>Torgersen</td>\n",
       "      <td>36.7</td>\n",
       "      <td>19.3</td>\n",
       "      <td>193.0</td>\n",
       "      <td>3450.0</td>\n",
       "      <td>Female</td>\n",
       "    </tr>\n",
       "    <tr>\n",
       "      <th>5</th>\n",
       "      <td>Adelie</td>\n",
       "      <td>Torgersen</td>\n",
       "      <td>39.3</td>\n",
       "      <td>20.6</td>\n",
       "      <td>190.0</td>\n",
       "      <td>3650.0</td>\n",
       "      <td>Male</td>\n",
       "    </tr>\n",
       "  </tbody>\n",
       "</table>\n",
       "</div>"
      ],
      "text/plain": [
       "  species     island  bill_length_mm  bill_depth_mm  flipper_length_mm  \\\n",
       "0  Adelie  Torgersen            39.1           18.7              181.0   \n",
       "1  Adelie  Torgersen            39.5           17.4              186.0   \n",
       "2  Adelie  Torgersen            40.3           18.0              195.0   \n",
       "4  Adelie  Torgersen            36.7           19.3              193.0   \n",
       "5  Adelie  Torgersen            39.3           20.6              190.0   \n",
       "\n",
       "   body_mass_g     sex  \n",
       "0       3750.0    Male  \n",
       "1       3800.0  Female  \n",
       "2       3250.0  Female  \n",
       "4       3450.0  Female  \n",
       "5       3650.0    Male  "
      ]
     },
     "execution_count": 13,
     "metadata": {},
     "output_type": "execute_result"
    }
   ],
   "source": [
    "df[HP].head()"
   ]
  },
  {
   "cell_type": "code",
   "execution_count": null,
   "id": "de9860de-f385-4c93-a8fd-d5b4f74dda25",
   "metadata": {},
   "outputs": [],
   "source": [
    "# Gentoo 종의  flipper_length 평균"
   ]
  },
  {
   "cell_type": "code",
   "execution_count": 22,
   "id": "d7323e17-6485-409e-9c3e-90f93bb524da",
   "metadata": {},
   "outputs": [
    {
     "data": {
      "text/plain": [
       "species\n",
       "Adelie       152\n",
       "Gentoo       124\n",
       "Chinstrap     68\n",
       "Name: count, dtype: int64"
      ]
     },
     "execution_count": 22,
     "metadata": {},
     "output_type": "execute_result"
    }
   ],
   "source": [
    "df['species'].value_counts()"
   ]
  },
  {
   "cell_type": "code",
   "execution_count": 24,
   "id": "c1abca9d-75a0-4693-b094-2a521f3dd52b",
   "metadata": {},
   "outputs": [],
   "source": [
    "peng1 = df['species'] == 'Gentoo'"
   ]
  },
  {
   "cell_type": "code",
   "execution_count": 25,
   "id": "8bd2ddbf-0d68-4dc3-93aa-7eb86add23fb",
   "metadata": {},
   "outputs": [
    {
     "data": {
      "text/plain": [
       "np.float64(217.1869918699187)"
      ]
     },
     "execution_count": 25,
     "metadata": {},
     "output_type": "execute_result"
    }
   ],
   "source": [
    "df.loc[peng1 , 'flipper_length_mm'].mean()"
   ]
  },
  {
   "cell_type": "code",
   "execution_count": null,
   "id": "e8f0eff1-4056-47db-a4d1-8171c7e8fa15",
   "metadata": {},
   "outputs": [],
   "source": [
    "# Female ch,,,,종의 bill_length 높은 순 정"
   ]
  },
  {
   "cell_type": "code",
   "execution_count": 29,
   "id": "11f888ff-a8c7-42bb-ad7c-13519e8846cc",
   "metadata": {},
   "outputs": [
    {
     "data": {
      "text/html": [
       "<div>\n",
       "<style scoped>\n",
       "    .dataframe tbody tr th:only-of-type {\n",
       "        vertical-align: middle;\n",
       "    }\n",
       "\n",
       "    .dataframe tbody tr th {\n",
       "        vertical-align: top;\n",
       "    }\n",
       "\n",
       "    .dataframe thead th {\n",
       "        text-align: right;\n",
       "    }\n",
       "</style>\n",
       "<table border=\"1\" class=\"dataframe\">\n",
       "  <thead>\n",
       "    <tr style=\"text-align: right;\">\n",
       "      <th></th>\n",
       "      <th>species</th>\n",
       "      <th>island</th>\n",
       "      <th>bill_length_mm</th>\n",
       "      <th>bill_depth_mm</th>\n",
       "      <th>flipper_length_mm</th>\n",
       "      <th>body_mass_g</th>\n",
       "      <th>sex</th>\n",
       "    </tr>\n",
       "  </thead>\n",
       "  <tbody>\n",
       "    <tr>\n",
       "      <th>169</th>\n",
       "      <td>Chinstrap</td>\n",
       "      <td>Dream</td>\n",
       "      <td>58.0</td>\n",
       "      <td>17.8</td>\n",
       "      <td>181.0</td>\n",
       "      <td>3700.0</td>\n",
       "      <td>Female</td>\n",
       "    </tr>\n",
       "    <tr>\n",
       "      <th>196</th>\n",
       "      <td>Chinstrap</td>\n",
       "      <td>Dream</td>\n",
       "      <td>50.9</td>\n",
       "      <td>17.9</td>\n",
       "      <td>196.0</td>\n",
       "      <td>3675.0</td>\n",
       "      <td>Female</td>\n",
       "    </tr>\n",
       "    <tr>\n",
       "      <th>178</th>\n",
       "      <td>Chinstrap</td>\n",
       "      <td>Dream</td>\n",
       "      <td>50.5</td>\n",
       "      <td>18.4</td>\n",
       "      <td>200.0</td>\n",
       "      <td>3400.0</td>\n",
       "      <td>Female</td>\n",
       "    </tr>\n",
       "    <tr>\n",
       "      <th>219</th>\n",
       "      <td>Chinstrap</td>\n",
       "      <td>Dream</td>\n",
       "      <td>50.2</td>\n",
       "      <td>18.7</td>\n",
       "      <td>198.0</td>\n",
       "      <td>3775.0</td>\n",
       "      <td>Female</td>\n",
       "    </tr>\n",
       "    <tr>\n",
       "      <th>198</th>\n",
       "      <td>Chinstrap</td>\n",
       "      <td>Dream</td>\n",
       "      <td>50.1</td>\n",
       "      <td>17.9</td>\n",
       "      <td>190.0</td>\n",
       "      <td>3400.0</td>\n",
       "      <td>Female</td>\n",
       "    </tr>\n",
       "  </tbody>\n",
       "</table>\n",
       "</div>"
      ],
      "text/plain": [
       "       species island  bill_length_mm  bill_depth_mm  flipper_length_mm  \\\n",
       "169  Chinstrap  Dream            58.0           17.8              181.0   \n",
       "196  Chinstrap  Dream            50.9           17.9              196.0   \n",
       "178  Chinstrap  Dream            50.5           18.4              200.0   \n",
       "219  Chinstrap  Dream            50.2           18.7              198.0   \n",
       "198  Chinstrap  Dream            50.1           17.9              190.0   \n",
       "\n",
       "     body_mass_g     sex  \n",
       "169       3700.0  Female  \n",
       "196       3675.0  Female  \n",
       "178       3400.0  Female  \n",
       "219       3775.0  Female  \n",
       "198       3400.0  Female  "
      ]
     },
     "execution_count": 29,
     "metadata": {},
     "output_type": "execute_result"
    }
   ],
   "source": [
    "FG = df['sex'] == 'Female'\n",
    "SG = df['species'] == 'Chinstrap'\n",
    "\n",
    "df.loc[FG & SG].sort_values('bill_length_mm', ascending = False).head(5)"
   ]
  },
  {
   "cell_type": "code",
   "execution_count": 6,
   "id": "12986355-d084-4058-8da4-125a9d5f4507",
   "metadata": {},
   "outputs": [],
   "source": []
  },
  {
   "cell_type": "code",
   "execution_count": null,
   "id": "e017d663-dff7-4965-b7fc-5cba33365617",
   "metadata": {},
   "outputs": [],
   "source": [
    "# species(종)별 성별 구분하여 평균 몸무게 출력\n",
    " #=> ex) Adelie, Female / Adelie, male / Gentoo, Female..."
   ]
  },
  {
   "cell_type": "code",
   "execution_count": 35,
   "id": "901a18fb-c94a-42e1-989e-ff4069c7aee0",
   "metadata": {},
   "outputs": [
    {
     "data": {
      "text/plain": [
       "species\n",
       "Adelie       152\n",
       "Gentoo       124\n",
       "Chinstrap     68\n",
       "Name: count, dtype: int64"
      ]
     },
     "execution_count": 35,
     "metadata": {},
     "output_type": "execute_result"
    }
   ],
   "source": [
    "df['species'].value_counts()"
   ]
  },
  {
   "cell_type": "code",
   "execution_count": 37,
   "id": "d568ae96-65d6-436a-a7c0-eda340b4272e",
   "metadata": {},
   "outputs": [],
   "source": [
    "AP = df['species'] == 'Adelie'\n",
    "\n",
    "GP = df['species'] == 'Gentoo'\n",
    "\n",
    "CP = df['species'] == 'Chinstrap'\n",
    "\n",
    "WP = df['sex'] == 'Female'\n",
    "MP = df['sex'] == 'Male'\n"
   ]
  },
  {
   "cell_type": "code",
   "execution_count": 43,
   "id": "eaa64c0d-ca92-40e0-8066-8baf9f2e9c3a",
   "metadata": {},
   "outputs": [
    {
     "name": "stdout",
     "output_type": "stream",
     "text": [
      "3368.8356164383563\n",
      "4679.741379310345\n",
      "3527.205882352941\n"
     ]
    }
   ],
   "source": [
    "print (df.loc[AP & WP, 'body_mass_g'].mean())\n",
    "print(df.loc[GP & WP, 'body_mass_g'].mean())\n",
    "print(df.loc[CP & WP, 'body_mass_g'].mean())"
   ]
  },
  {
   "cell_type": "code",
   "execution_count": 44,
   "id": "058cf0a5-ae32-4064-a31e-c37d82e0c790",
   "metadata": {},
   "outputs": [
    {
     "name": "stdout",
     "output_type": "stream",
     "text": [
      "4043.4931506849316\n",
      "5484.836065573771\n",
      "3938.970588235294\n"
     ]
    }
   ],
   "source": [
    "print (df.loc[AP & MP, 'body_mass_g'].mean())\n",
    "print(df.loc[GP & MP, 'body_mass_g'].mean())\n",
    "print(df.loc[CP & MP, 'body_mass_g'].mean())"
   ]
  },
  {
   "cell_type": "code",
   "execution_count": 64,
   "id": "ad7c73cc-28f9-4149-9cb0-f38a7b0bc021",
   "metadata": {},
   "outputs": [
    {
     "name": "stdout",
     "output_type": "stream",
     "text": [
      "Adelie, Male의 평균 몸무게는 4043.4931506849316\n",
      "Adelie, Female의 평균 몸무게는 3368.8356164383563\n",
      "Chinstrap, Male의 평균 몸무게는 3938.970588235294\n",
      "Chinstrap, Female의 평균 몸무게는 3527.205882352941\n",
      "Gentoo, Male의 평균 몸무게는 5484.836065573771\n",
      "Gentoo, Female의 평균 몸무게는 4679.741379310345\n"
     ]
    }
   ],
   "source": [
    "df_copy = df.copy()\n",
    "for species in df_copy['species'].unique(): # df_copy['species'].unique()는 ['Adelie' 'Chinstrap' 'Gentoo'] 나오기 때문에 for문을 써서 종별 구분\n",
    "    for sex in df_copy['sex'].unique()[:2]: # df_copy['sex'].unique()는 ['Male' 'Female' nan] 나오기 때문에 for문을 쓰지만 nan을 쓰지 않고 Female까지만 나올 수 있도록 [:2]를 써서 성별 구분\n",
    "        con1 = df_copy['species'] == species\n",
    "        con2 = df_copy['sex'] == sex\n",
    "        print(f'{species}, {sex}의 평균 몸무게는 ', end = '')\n",
    "        print(df_copy.loc[con1 & con2, 'body_mass_g'].mean()) # 평균 몸무게 출"
   ]
  },
  {
   "cell_type": "code",
   "execution_count": null,
   "id": "898eb207-2dbf-471e-acf2-44ffaa2a26a5",
   "metadata": {},
   "outputs": [],
   "source": [
    "# bill_depth 결측치 채우기\n",
    "# => 같은종 같은섬의 평균으로"
   ]
  },
  {
   "cell_type": "code",
   "execution_count": 46,
   "id": "a645ab87-0518-4a18-947e-1a17c0818ff7",
   "metadata": {
    "collapsed": true,
    "jupyter": {
     "outputs_hidden": true,
     "source_hidden": true
    }
   },
   "outputs": [
    {
     "data": {
      "text/html": [
       "<div>\n",
       "<style scoped>\n",
       "    .dataframe tbody tr th:only-of-type {\n",
       "        vertical-align: middle;\n",
       "    }\n",
       "\n",
       "    .dataframe tbody tr th {\n",
       "        vertical-align: top;\n",
       "    }\n",
       "\n",
       "    .dataframe thead th {\n",
       "        text-align: right;\n",
       "    }\n",
       "</style>\n",
       "<table border=\"1\" class=\"dataframe\">\n",
       "  <thead>\n",
       "    <tr style=\"text-align: right;\">\n",
       "      <th></th>\n",
       "      <th>species</th>\n",
       "      <th>island</th>\n",
       "      <th>bill_length_mm</th>\n",
       "      <th>bill_depth_mm</th>\n",
       "      <th>flipper_length_mm</th>\n",
       "      <th>body_mass_g</th>\n",
       "      <th>sex</th>\n",
       "    </tr>\n",
       "  </thead>\n",
       "  <tbody>\n",
       "    <tr>\n",
       "      <th>0</th>\n",
       "      <td>Adelie</td>\n",
       "      <td>Torgersen</td>\n",
       "      <td>39.1</td>\n",
       "      <td>18.7</td>\n",
       "      <td>181.0</td>\n",
       "      <td>3750.0</td>\n",
       "      <td>Male</td>\n",
       "    </tr>\n",
       "    <tr>\n",
       "      <th>1</th>\n",
       "      <td>Adelie</td>\n",
       "      <td>Torgersen</td>\n",
       "      <td>39.5</td>\n",
       "      <td>17.4</td>\n",
       "      <td>186.0</td>\n",
       "      <td>3800.0</td>\n",
       "      <td>Female</td>\n",
       "    </tr>\n",
       "    <tr>\n",
       "      <th>2</th>\n",
       "      <td>Adelie</td>\n",
       "      <td>Torgersen</td>\n",
       "      <td>40.3</td>\n",
       "      <td>18.0</td>\n",
       "      <td>195.0</td>\n",
       "      <td>3250.0</td>\n",
       "      <td>Female</td>\n",
       "    </tr>\n",
       "    <tr>\n",
       "      <th>3</th>\n",
       "      <td>Adelie</td>\n",
       "      <td>Torgersen</td>\n",
       "      <td>NaN</td>\n",
       "      <td>NaN</td>\n",
       "      <td>NaN</td>\n",
       "      <td>NaN</td>\n",
       "      <td>NaN</td>\n",
       "    </tr>\n",
       "    <tr>\n",
       "      <th>4</th>\n",
       "      <td>Adelie</td>\n",
       "      <td>Torgersen</td>\n",
       "      <td>36.7</td>\n",
       "      <td>19.3</td>\n",
       "      <td>193.0</td>\n",
       "      <td>3450.0</td>\n",
       "      <td>Female</td>\n",
       "    </tr>\n",
       "  </tbody>\n",
       "</table>\n",
       "</div>"
      ],
      "text/plain": [
       "  species     island  bill_length_mm  bill_depth_mm  flipper_length_mm  \\\n",
       "0  Adelie  Torgersen            39.1           18.7              181.0   \n",
       "1  Adelie  Torgersen            39.5           17.4              186.0   \n",
       "2  Adelie  Torgersen            40.3           18.0              195.0   \n",
       "3  Adelie  Torgersen             NaN            NaN                NaN   \n",
       "4  Adelie  Torgersen            36.7           19.3              193.0   \n",
       "\n",
       "   body_mass_g     sex  \n",
       "0       3750.0    Male  \n",
       "1       3800.0  Female  \n",
       "2       3250.0  Female  \n",
       "3          NaN     NaN  \n",
       "4       3450.0  Female  "
      ]
     },
     "execution_count": 46,
     "metadata": {},
     "output_type": "execute_result"
    }
   ],
   "source": [
    "df.head()"
   ]
  },
  {
   "cell_type": "code",
   "execution_count": 49,
   "id": "4151ed16-0c40-4e7f-87c1-4467185e774c",
   "metadata": {},
   "outputs": [],
   "source": [
    "df_c = df.copy()"
   ]
  },
  {
   "cell_type": "code",
   "execution_count": 51,
   "id": "9f72901b-fef3-42c1-999d-b3d7c4816f5c",
   "metadata": {},
   "outputs": [
    {
     "data": {
      "text/plain": [
       "species               0\n",
       "island                0\n",
       "bill_length_mm        2\n",
       "bill_depth_mm         2\n",
       "flipper_length_mm     2\n",
       "body_mass_g           2\n",
       "sex                  11\n",
       "dtype: int64"
      ]
     },
     "execution_count": 51,
     "metadata": {},
     "output_type": "execute_result"
    }
   ],
   "source": [
    "df_c.isnull().sum()"
   ]
  },
  {
   "cell_type": "code",
   "execution_count": 52,
   "id": "1d597088-eccb-4014-a913-36029cf36bbb",
   "metadata": {
    "collapsed": true,
    "jupyter": {
     "outputs_hidden": true,
     "source_hidden": true
    }
   },
   "outputs": [
    {
     "name": "stdout",
     "output_type": "stream",
     "text": [
      "<class 'pandas.core.frame.DataFrame'>\n",
      "RangeIndex: 344 entries, 0 to 343\n",
      "Data columns (total 7 columns):\n",
      " #   Column             Non-Null Count  Dtype  \n",
      "---  ------             --------------  -----  \n",
      " 0   species            344 non-null    object \n",
      " 1   island             344 non-null    object \n",
      " 2   bill_length_mm     342 non-null    float64\n",
      " 3   bill_depth_mm      342 non-null    float64\n",
      " 4   flipper_length_mm  342 non-null    float64\n",
      " 5   body_mass_g        342 non-null    float64\n",
      " 6   sex                333 non-null    object \n",
      "dtypes: float64(4), object(3)\n",
      "memory usage: 18.9+ KB\n"
     ]
    }
   ],
   "source": [
    "df_c.info()"
   ]
  },
  {
   "cell_type": "code",
   "execution_count": null,
   "id": "485f25d3-ec12-401f-b53f-753348d801db",
   "metadata": {},
   "outputs": [],
   "source": [
    "# 빌뎁스의 결측치가 어디서 발생했는지 찾고\n",
    "# 같은 종 같은 섬 공통의 평균을 구해서 넣기 \n",
    "#"
   ]
  },
  {
   "cell_type": "code",
   "execution_count": 62,
   "id": "2bc222de-f2b2-40ab-b3df-a2633d0633fe",
   "metadata": {
    "collapsed": true,
    "jupyter": {
     "outputs_hidden": true,
     "source_hidden": true
    }
   },
   "outputs": [
    {
     "data": {
      "text/plain": [
       "bill_depth_mm\n",
       "False    342\n",
       "True       2\n",
       "Name: count, dtype: int64"
      ]
     },
     "execution_count": 62,
     "metadata": {},
     "output_type": "execute_result"
    }
   ],
   "source": [
    "pingu.value_counts()"
   ]
  },
  {
   "cell_type": "code",
   "execution_count": 63,
   "id": "3b02ddb4-16bc-4695-b75a-be0b6fc535c5",
   "metadata": {},
   "outputs": [
    {
     "name": "stdout",
     "output_type": "stream",
     "text": [
      "    species     island  bill_length_mm  bill_depth_mm  flipper_length_mm  \\\n",
      "3    Adelie  Torgersen             NaN            NaN                NaN   \n",
      "339  Gentoo     Biscoe             NaN            NaN                NaN   \n",
      "\n",
      "     body_mass_g  sex  \n",
      "3            NaN  NaN  \n",
      "339          NaN  NaN  \n"
     ]
    }
   ],
   "source": [
    "print(df[df['bill_depth_mm'].isnull()])"
   ]
  },
  {
   "cell_type": "code",
   "execution_count": 65,
   "id": "6cf319ef-be50-4a13-a230-700cfff7c1c1",
   "metadata": {},
   "outputs": [
    {
     "data": {
      "text/html": [
       "<div>\n",
       "<style scoped>\n",
       "    .dataframe tbody tr th:only-of-type {\n",
       "        vertical-align: middle;\n",
       "    }\n",
       "\n",
       "    .dataframe tbody tr th {\n",
       "        vertical-align: top;\n",
       "    }\n",
       "\n",
       "    .dataframe thead th {\n",
       "        text-align: right;\n",
       "    }\n",
       "</style>\n",
       "<table border=\"1\" class=\"dataframe\">\n",
       "  <thead>\n",
       "    <tr style=\"text-align: right;\">\n",
       "      <th></th>\n",
       "      <th>species</th>\n",
       "      <th>island</th>\n",
       "      <th>bill_length_mm</th>\n",
       "      <th>bill_depth_mm</th>\n",
       "      <th>flipper_length_mm</th>\n",
       "      <th>body_mass_g</th>\n",
       "      <th>sex</th>\n",
       "    </tr>\n",
       "  </thead>\n",
       "  <tbody>\n",
       "    <tr>\n",
       "      <th>0</th>\n",
       "      <td>Adelie</td>\n",
       "      <td>Torgersen</td>\n",
       "      <td>39.1</td>\n",
       "      <td>18.700000</td>\n",
       "      <td>181.0</td>\n",
       "      <td>3750.0</td>\n",
       "      <td>Male</td>\n",
       "    </tr>\n",
       "    <tr>\n",
       "      <th>1</th>\n",
       "      <td>Adelie</td>\n",
       "      <td>Torgersen</td>\n",
       "      <td>39.5</td>\n",
       "      <td>17.400000</td>\n",
       "      <td>186.0</td>\n",
       "      <td>3800.0</td>\n",
       "      <td>Female</td>\n",
       "    </tr>\n",
       "    <tr>\n",
       "      <th>2</th>\n",
       "      <td>Adelie</td>\n",
       "      <td>Torgersen</td>\n",
       "      <td>40.3</td>\n",
       "      <td>18.000000</td>\n",
       "      <td>195.0</td>\n",
       "      <td>3250.0</td>\n",
       "      <td>Female</td>\n",
       "    </tr>\n",
       "    <tr>\n",
       "      <th>3</th>\n",
       "      <td>Adelie</td>\n",
       "      <td>Torgersen</td>\n",
       "      <td>NaN</td>\n",
       "      <td>18.429412</td>\n",
       "      <td>NaN</td>\n",
       "      <td>NaN</td>\n",
       "      <td>NaN</td>\n",
       "    </tr>\n",
       "    <tr>\n",
       "      <th>4</th>\n",
       "      <td>Adelie</td>\n",
       "      <td>Torgersen</td>\n",
       "      <td>36.7</td>\n",
       "      <td>19.300000</td>\n",
       "      <td>193.0</td>\n",
       "      <td>3450.0</td>\n",
       "      <td>Female</td>\n",
       "    </tr>\n",
       "    <tr>\n",
       "      <th>...</th>\n",
       "      <td>...</td>\n",
       "      <td>...</td>\n",
       "      <td>...</td>\n",
       "      <td>...</td>\n",
       "      <td>...</td>\n",
       "      <td>...</td>\n",
       "      <td>...</td>\n",
       "    </tr>\n",
       "    <tr>\n",
       "      <th>339</th>\n",
       "      <td>Gentoo</td>\n",
       "      <td>Biscoe</td>\n",
       "      <td>NaN</td>\n",
       "      <td>14.982114</td>\n",
       "      <td>NaN</td>\n",
       "      <td>NaN</td>\n",
       "      <td>NaN</td>\n",
       "    </tr>\n",
       "    <tr>\n",
       "      <th>340</th>\n",
       "      <td>Gentoo</td>\n",
       "      <td>Biscoe</td>\n",
       "      <td>46.8</td>\n",
       "      <td>14.300000</td>\n",
       "      <td>215.0</td>\n",
       "      <td>4850.0</td>\n",
       "      <td>Female</td>\n",
       "    </tr>\n",
       "    <tr>\n",
       "      <th>341</th>\n",
       "      <td>Gentoo</td>\n",
       "      <td>Biscoe</td>\n",
       "      <td>50.4</td>\n",
       "      <td>15.700000</td>\n",
       "      <td>222.0</td>\n",
       "      <td>5750.0</td>\n",
       "      <td>Male</td>\n",
       "    </tr>\n",
       "    <tr>\n",
       "      <th>342</th>\n",
       "      <td>Gentoo</td>\n",
       "      <td>Biscoe</td>\n",
       "      <td>45.2</td>\n",
       "      <td>14.800000</td>\n",
       "      <td>212.0</td>\n",
       "      <td>5200.0</td>\n",
       "      <td>Female</td>\n",
       "    </tr>\n",
       "    <tr>\n",
       "      <th>343</th>\n",
       "      <td>Gentoo</td>\n",
       "      <td>Biscoe</td>\n",
       "      <td>49.9</td>\n",
       "      <td>16.100000</td>\n",
       "      <td>213.0</td>\n",
       "      <td>5400.0</td>\n",
       "      <td>Male</td>\n",
       "    </tr>\n",
       "  </tbody>\n",
       "</table>\n",
       "<p>344 rows × 7 columns</p>\n",
       "</div>"
      ],
      "text/plain": [
       "    species     island  bill_length_mm  bill_depth_mm  flipper_length_mm  \\\n",
       "0    Adelie  Torgersen            39.1      18.700000              181.0   \n",
       "1    Adelie  Torgersen            39.5      17.400000              186.0   \n",
       "2    Adelie  Torgersen            40.3      18.000000              195.0   \n",
       "3    Adelie  Torgersen             NaN      18.429412                NaN   \n",
       "4    Adelie  Torgersen            36.7      19.300000              193.0   \n",
       "..      ...        ...             ...            ...                ...   \n",
       "339  Gentoo     Biscoe             NaN      14.982114                NaN   \n",
       "340  Gentoo     Biscoe            46.8      14.300000              215.0   \n",
       "341  Gentoo     Biscoe            50.4      15.700000              222.0   \n",
       "342  Gentoo     Biscoe            45.2      14.800000              212.0   \n",
       "343  Gentoo     Biscoe            49.9      16.100000              213.0   \n",
       "\n",
       "     body_mass_g     sex  \n",
       "0         3750.0    Male  \n",
       "1         3800.0  Female  \n",
       "2         3250.0  Female  \n",
       "3            NaN     NaN  \n",
       "4         3450.0  Female  \n",
       "..           ...     ...  \n",
       "339          NaN     NaN  \n",
       "340       4850.0  Female  \n",
       "341       5750.0    Male  \n",
       "342       5200.0  Female  \n",
       "343       5400.0    Male  \n",
       "\n",
       "[344 rows x 7 columns]"
      ]
     },
     "execution_count": 65,
     "metadata": {},
     "output_type": "execute_result"
    }
   ],
   "source": [
    "df_copy = df.copy()\n",
    "\n",
    "for species in df_copy['species'].unique(): \n",
    "    # df_copy['species'].unique()는 ['Adelie' 'Chinstrap' 'Gentoo'] 나오기 때문에 for문을 써서 종별 구분\n",
    "    for island in df_copy['island'].unique(): \n",
    "        # df_copy['island'].unique()는 ['Torgersen' 'Biscoe' 'Dream'] 나오기 때문에 for문을 써서 섬별 구분\n",
    "        con1 = df_copy['species'] == species\n",
    "        con2 = df_copy['island'] == island\n",
    "        avg = df_copy.loc[con1 & con2, 'bill_depth_mm'].mean() # 같은 종, 같은 섬의 평균\n",
    "        df_copy.loc[con1 & con2, 'bill_depth_mm'] = df_copy.loc[con1 & con2, 'bill_depth_mm'].fillna(avg) # 결측치 채우기\n",
    "df_copy"
   ]
  },
  {
   "cell_type": "code",
   "execution_count": null,
   "id": "2ddb9eeb-2655-489f-9e82-0f0a8f1816eb",
   "metadata": {},
   "outputs": [],
   "source": []
  }
 ],
 "metadata": {
  "kernelspec": {
   "display_name": "Python 3 (ipykernel)",
   "language": "python",
   "name": "python3"
  },
  "language_info": {
   "codemirror_mode": {
    "name": "ipython",
    "version": 3
   },
   "file_extension": ".py",
   "mimetype": "text/x-python",
   "name": "python",
   "nbconvert_exporter": "python",
   "pygments_lexer": "ipython3",
   "version": "3.13.2"
  }
 },
 "nbformat": 4,
 "nbformat_minor": 5
}
